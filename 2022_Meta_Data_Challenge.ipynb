{
  "nbformat": 4,
  "nbformat_minor": 0,
  "metadata": {
    "colab": {
      "name": "2022 Meta Data Challenge.ipynb",
      "provenance": [],
      "collapsed_sections": [],
      "toc_visible": true
    },
    "kernelspec": {
      "name": "python3",
      "display_name": "Python 3"
    },
    "language_info": {
      "name": "python"
    }
  },
  "cells": [
    {
      "cell_type": "code",
      "execution_count": null,
      "metadata": {
        "id": "9G1WlY878fkE"
      },
      "outputs": [],
      "source": [
        "import os\n",
        "import pandas as pd\n",
        "import numpy as np\n",
        "import math\n",
        "import tensorflow as tf"
      ]
    },
    {
      "cell_type": "code",
      "source": [
        "from google.colab import drive\n",
        "\n",
        "drive.mount('/content/drive')"
      ],
      "metadata": {
        "colab": {
          "base_uri": "https://localhost:8080/"
        },
        "id": "dX8dQ3Oz-C7B",
        "outputId": "828f769e-052f-41f5-934d-4c0bcf255418"
      },
      "execution_count": null,
      "outputs": [
        {
          "output_type": "stream",
          "name": "stdout",
          "text": [
            "Mounted at /content/drive\n"
          ]
        }
      ]
    },
    {
      "cell_type": "code",
      "source": [
        "#Read the file\n",
        "path = \"/content/drive/My Drive/Colab Notebooks/meta/netflix_titles.csv\"\n",
        "original_df = pd.read_csv(path)\n",
        "len(original_df)"
      ],
      "metadata": {
        "id": "LyfFmfDm9vKJ",
        "colab": {
          "base_uri": "https://localhost:8080/"
        },
        "outputId": "0cd18e4c-e3d3-454f-c82e-5771a7265d29"
      },
      "execution_count": null,
      "outputs": [
        {
          "output_type": "execute_result",
          "data": {
            "text/plain": [
              "8807"
            ]
          },
          "metadata": {},
          "execution_count": 7
        }
      ]
    },
    {
      "cell_type": "code",
      "source": [
        "#First five rows\n",
        "new_df = original_df.head(5)\n",
        "new_df"
      ],
      "metadata": {
        "colab": {
          "base_uri": "https://localhost:8080/",
          "height": 389
        },
        "id": "H-douOLQAl3a",
        "outputId": "38267e31-c303-457c-9d14-f010ae0a3fb3"
      },
      "execution_count": null,
      "outputs": [
        {
          "output_type": "execute_result",
          "data": {
            "text/plain": [
              "  show_id     type                  title         director  \\\n",
              "0      s1    Movie   Dick Johnson Is Dead  Kirsten Johnson   \n",
              "1      s2  TV Show          Blood & Water              NaN   \n",
              "2      s3  TV Show              Ganglands  Julien Leclercq   \n",
              "3      s4  TV Show  Jailbirds New Orleans              NaN   \n",
              "4      s5  TV Show           Kota Factory              NaN   \n",
              "\n",
              "                                                cast        country  \\\n",
              "0                                                NaN  United States   \n",
              "1  Ama Qamata, Khosi Ngema, Gail Mabalane, Thaban...   South Africa   \n",
              "2  Sami Bouajila, Tracy Gotoas, Samuel Jouy, Nabi...            NaN   \n",
              "3                                                NaN            NaN   \n",
              "4  Mayur More, Jitendra Kumar, Ranjan Raj, Alam K...          India   \n",
              "\n",
              "           date_added  release_year rating   duration  \\\n",
              "0  September 25, 2021          2020  PG-13     90 min   \n",
              "1  September 24, 2021          2021  TV-MA  2 Seasons   \n",
              "2  September 24, 2021          2021  TV-MA   1 Season   \n",
              "3  September 24, 2021          2021  TV-MA   1 Season   \n",
              "4  September 24, 2021          2021  TV-MA  2 Seasons   \n",
              "\n",
              "                                           listed_in  \\\n",
              "0                                      Documentaries   \n",
              "1    International TV Shows, TV Dramas, TV Mysteries   \n",
              "2  Crime TV Shows, International TV Shows, TV Act...   \n",
              "3                             Docuseries, Reality TV   \n",
              "4  International TV Shows, Romantic TV Shows, TV ...   \n",
              "\n",
              "                                         description  \n",
              "0  As her father nears the end of his life, filmm...  \n",
              "1  After crossing paths at a party, a Cape Town t...  \n",
              "2  To protect his family from a powerful drug lor...  \n",
              "3  Feuds, flirtations and toilet talk go down amo...  \n",
              "4  In a city of coaching centers known to train I...  "
            ],
            "text/html": [
              "\n",
              "  <div id=\"df-97d2820c-75c6-4b56-8fe2-f0d73c06fd4b\">\n",
              "    <div class=\"colab-df-container\">\n",
              "      <div>\n",
              "<style scoped>\n",
              "    .dataframe tbody tr th:only-of-type {\n",
              "        vertical-align: middle;\n",
              "    }\n",
              "\n",
              "    .dataframe tbody tr th {\n",
              "        vertical-align: top;\n",
              "    }\n",
              "\n",
              "    .dataframe thead th {\n",
              "        text-align: right;\n",
              "    }\n",
              "</style>\n",
              "<table border=\"1\" class=\"dataframe\">\n",
              "  <thead>\n",
              "    <tr style=\"text-align: right;\">\n",
              "      <th></th>\n",
              "      <th>show_id</th>\n",
              "      <th>type</th>\n",
              "      <th>title</th>\n",
              "      <th>director</th>\n",
              "      <th>cast</th>\n",
              "      <th>country</th>\n",
              "      <th>date_added</th>\n",
              "      <th>release_year</th>\n",
              "      <th>rating</th>\n",
              "      <th>duration</th>\n",
              "      <th>listed_in</th>\n",
              "      <th>description</th>\n",
              "    </tr>\n",
              "  </thead>\n",
              "  <tbody>\n",
              "    <tr>\n",
              "      <th>0</th>\n",
              "      <td>s1</td>\n",
              "      <td>Movie</td>\n",
              "      <td>Dick Johnson Is Dead</td>\n",
              "      <td>Kirsten Johnson</td>\n",
              "      <td>NaN</td>\n",
              "      <td>United States</td>\n",
              "      <td>September 25, 2021</td>\n",
              "      <td>2020</td>\n",
              "      <td>PG-13</td>\n",
              "      <td>90 min</td>\n",
              "      <td>Documentaries</td>\n",
              "      <td>As her father nears the end of his life, filmm...</td>\n",
              "    </tr>\n",
              "    <tr>\n",
              "      <th>1</th>\n",
              "      <td>s2</td>\n",
              "      <td>TV Show</td>\n",
              "      <td>Blood &amp; Water</td>\n",
              "      <td>NaN</td>\n",
              "      <td>Ama Qamata, Khosi Ngema, Gail Mabalane, Thaban...</td>\n",
              "      <td>South Africa</td>\n",
              "      <td>September 24, 2021</td>\n",
              "      <td>2021</td>\n",
              "      <td>TV-MA</td>\n",
              "      <td>2 Seasons</td>\n",
              "      <td>International TV Shows, TV Dramas, TV Mysteries</td>\n",
              "      <td>After crossing paths at a party, a Cape Town t...</td>\n",
              "    </tr>\n",
              "    <tr>\n",
              "      <th>2</th>\n",
              "      <td>s3</td>\n",
              "      <td>TV Show</td>\n",
              "      <td>Ganglands</td>\n",
              "      <td>Julien Leclercq</td>\n",
              "      <td>Sami Bouajila, Tracy Gotoas, Samuel Jouy, Nabi...</td>\n",
              "      <td>NaN</td>\n",
              "      <td>September 24, 2021</td>\n",
              "      <td>2021</td>\n",
              "      <td>TV-MA</td>\n",
              "      <td>1 Season</td>\n",
              "      <td>Crime TV Shows, International TV Shows, TV Act...</td>\n",
              "      <td>To protect his family from a powerful drug lor...</td>\n",
              "    </tr>\n",
              "    <tr>\n",
              "      <th>3</th>\n",
              "      <td>s4</td>\n",
              "      <td>TV Show</td>\n",
              "      <td>Jailbirds New Orleans</td>\n",
              "      <td>NaN</td>\n",
              "      <td>NaN</td>\n",
              "      <td>NaN</td>\n",
              "      <td>September 24, 2021</td>\n",
              "      <td>2021</td>\n",
              "      <td>TV-MA</td>\n",
              "      <td>1 Season</td>\n",
              "      <td>Docuseries, Reality TV</td>\n",
              "      <td>Feuds, flirtations and toilet talk go down amo...</td>\n",
              "    </tr>\n",
              "    <tr>\n",
              "      <th>4</th>\n",
              "      <td>s5</td>\n",
              "      <td>TV Show</td>\n",
              "      <td>Kota Factory</td>\n",
              "      <td>NaN</td>\n",
              "      <td>Mayur More, Jitendra Kumar, Ranjan Raj, Alam K...</td>\n",
              "      <td>India</td>\n",
              "      <td>September 24, 2021</td>\n",
              "      <td>2021</td>\n",
              "      <td>TV-MA</td>\n",
              "      <td>2 Seasons</td>\n",
              "      <td>International TV Shows, Romantic TV Shows, TV ...</td>\n",
              "      <td>In a city of coaching centers known to train I...</td>\n",
              "    </tr>\n",
              "  </tbody>\n",
              "</table>\n",
              "</div>\n",
              "      <button class=\"colab-df-convert\" onclick=\"convertToInteractive('df-97d2820c-75c6-4b56-8fe2-f0d73c06fd4b')\"\n",
              "              title=\"Convert this dataframe to an interactive table.\"\n",
              "              style=\"display:none;\">\n",
              "        \n",
              "  <svg xmlns=\"http://www.w3.org/2000/svg\" height=\"24px\"viewBox=\"0 0 24 24\"\n",
              "       width=\"24px\">\n",
              "    <path d=\"M0 0h24v24H0V0z\" fill=\"none\"/>\n",
              "    <path d=\"M18.56 5.44l.94 2.06.94-2.06 2.06-.94-2.06-.94-.94-2.06-.94 2.06-2.06.94zm-11 1L8.5 8.5l.94-2.06 2.06-.94-2.06-.94L8.5 2.5l-.94 2.06-2.06.94zm10 10l.94 2.06.94-2.06 2.06-.94-2.06-.94-.94-2.06-.94 2.06-2.06.94z\"/><path d=\"M17.41 7.96l-1.37-1.37c-.4-.4-.92-.59-1.43-.59-.52 0-1.04.2-1.43.59L10.3 9.45l-7.72 7.72c-.78.78-.78 2.05 0 2.83L4 21.41c.39.39.9.59 1.41.59.51 0 1.02-.2 1.41-.59l7.78-7.78 2.81-2.81c.8-.78.8-2.07 0-2.86zM5.41 20L4 18.59l7.72-7.72 1.47 1.35L5.41 20z\"/>\n",
              "  </svg>\n",
              "      </button>\n",
              "      \n",
              "  <style>\n",
              "    .colab-df-container {\n",
              "      display:flex;\n",
              "      flex-wrap:wrap;\n",
              "      gap: 12px;\n",
              "    }\n",
              "\n",
              "    .colab-df-convert {\n",
              "      background-color: #E8F0FE;\n",
              "      border: none;\n",
              "      border-radius: 50%;\n",
              "      cursor: pointer;\n",
              "      display: none;\n",
              "      fill: #1967D2;\n",
              "      height: 32px;\n",
              "      padding: 0 0 0 0;\n",
              "      width: 32px;\n",
              "    }\n",
              "\n",
              "    .colab-df-convert:hover {\n",
              "      background-color: #E2EBFA;\n",
              "      box-shadow: 0px 1px 2px rgba(60, 64, 67, 0.3), 0px 1px 3px 1px rgba(60, 64, 67, 0.15);\n",
              "      fill: #174EA6;\n",
              "    }\n",
              "\n",
              "    [theme=dark] .colab-df-convert {\n",
              "      background-color: #3B4455;\n",
              "      fill: #D2E3FC;\n",
              "    }\n",
              "\n",
              "    [theme=dark] .colab-df-convert:hover {\n",
              "      background-color: #434B5C;\n",
              "      box-shadow: 0px 1px 3px 1px rgba(0, 0, 0, 0.15);\n",
              "      filter: drop-shadow(0px 1px 2px rgba(0, 0, 0, 0.3));\n",
              "      fill: #FFFFFF;\n",
              "    }\n",
              "  </style>\n",
              "\n",
              "      <script>\n",
              "        const buttonEl =\n",
              "          document.querySelector('#df-97d2820c-75c6-4b56-8fe2-f0d73c06fd4b button.colab-df-convert');\n",
              "        buttonEl.style.display =\n",
              "          google.colab.kernel.accessAllowed ? 'block' : 'none';\n",
              "\n",
              "        async function convertToInteractive(key) {\n",
              "          const element = document.querySelector('#df-97d2820c-75c6-4b56-8fe2-f0d73c06fd4b');\n",
              "          const dataTable =\n",
              "            await google.colab.kernel.invokeFunction('convertToInteractive',\n",
              "                                                     [key], {});\n",
              "          if (!dataTable) return;\n",
              "\n",
              "          const docLinkHtml = 'Like what you see? Visit the ' +\n",
              "            '<a target=\"_blank\" href=https://colab.research.google.com/notebooks/data_table.ipynb>data table notebook</a>'\n",
              "            + ' to learn more about interactive tables.';\n",
              "          element.innerHTML = '';\n",
              "          dataTable['output_type'] = 'display_data';\n",
              "          await google.colab.output.renderOutput(dataTable, element);\n",
              "          const docLink = document.createElement('div');\n",
              "          docLink.innerHTML = docLinkHtml;\n",
              "          element.appendChild(docLink);\n",
              "        }\n",
              "      </script>\n",
              "    </div>\n",
              "  </div>\n",
              "  "
            ]
          },
          "metadata": {},
          "execution_count": 8
        }
      ]
    },
    {
      "cell_type": "code",
      "source": [
        "#Drop \"title\" and \"description\" columns\n",
        "original_df.drop(columns = ['title', 'description'])"
      ],
      "metadata": {
        "colab": {
          "base_uri": "https://localhost:8080/",
          "height": 641
        },
        "id": "NGdxuoj2AtlZ",
        "outputId": "a6d0ffaa-fb3d-4402-d208-77e118758d5d"
      },
      "execution_count": null,
      "outputs": [
        {
          "output_type": "execute_result",
          "data": {
            "text/plain": [
              "     show_id     type         director  \\\n",
              "0         s1    Movie  Kirsten Johnson   \n",
              "1         s2  TV Show              NaN   \n",
              "2         s3  TV Show  Julien Leclercq   \n",
              "3         s4  TV Show              NaN   \n",
              "4         s5  TV Show              NaN   \n",
              "...      ...      ...              ...   \n",
              "8802   s8803    Movie    David Fincher   \n",
              "8803   s8804  TV Show              NaN   \n",
              "8804   s8805    Movie  Ruben Fleischer   \n",
              "8805   s8806    Movie     Peter Hewitt   \n",
              "8806   s8807    Movie      Mozez Singh   \n",
              "\n",
              "                                                   cast        country  \\\n",
              "0                                                   NaN  United States   \n",
              "1     Ama Qamata, Khosi Ngema, Gail Mabalane, Thaban...   South Africa   \n",
              "2     Sami Bouajila, Tracy Gotoas, Samuel Jouy, Nabi...            NaN   \n",
              "3                                                   NaN            NaN   \n",
              "4     Mayur More, Jitendra Kumar, Ranjan Raj, Alam K...          India   \n",
              "...                                                 ...            ...   \n",
              "8802  Mark Ruffalo, Jake Gyllenhaal, Robert Downey J...  United States   \n",
              "8803                                                NaN            NaN   \n",
              "8804  Jesse Eisenberg, Woody Harrelson, Emma Stone, ...  United States   \n",
              "8805  Tim Allen, Courteney Cox, Chevy Chase, Kate Ma...  United States   \n",
              "8806  Vicky Kaushal, Sarah-Jane Dias, Raaghav Chanan...          India   \n",
              "\n",
              "              date_added  release_year rating   duration  \\\n",
              "0     September 25, 2021          2020  PG-13     90 min   \n",
              "1     September 24, 2021          2021  TV-MA  2 Seasons   \n",
              "2     September 24, 2021          2021  TV-MA   1 Season   \n",
              "3     September 24, 2021          2021  TV-MA   1 Season   \n",
              "4     September 24, 2021          2021  TV-MA  2 Seasons   \n",
              "...                  ...           ...    ...        ...   \n",
              "8802   November 20, 2019          2007      R    158 min   \n",
              "8803        July 1, 2019          2018  TV-Y7  2 Seasons   \n",
              "8804    November 1, 2019          2009      R     88 min   \n",
              "8805    January 11, 2020          2006     PG     88 min   \n",
              "8806       March 2, 2019          2015  TV-14    111 min   \n",
              "\n",
              "                                              listed_in  \n",
              "0                                         Documentaries  \n",
              "1       International TV Shows, TV Dramas, TV Mysteries  \n",
              "2     Crime TV Shows, International TV Shows, TV Act...  \n",
              "3                                Docuseries, Reality TV  \n",
              "4     International TV Shows, Romantic TV Shows, TV ...  \n",
              "...                                                 ...  \n",
              "8802                     Cult Movies, Dramas, Thrillers  \n",
              "8803             Kids' TV, Korean TV Shows, TV Comedies  \n",
              "8804                            Comedies, Horror Movies  \n",
              "8805                 Children & Family Movies, Comedies  \n",
              "8806     Dramas, International Movies, Music & Musicals  \n",
              "\n",
              "[8807 rows x 10 columns]"
            ],
            "text/html": [
              "\n",
              "  <div id=\"df-9aed55a3-20e2-4e24-a5bc-0eeae03448c8\">\n",
              "    <div class=\"colab-df-container\">\n",
              "      <div>\n",
              "<style scoped>\n",
              "    .dataframe tbody tr th:only-of-type {\n",
              "        vertical-align: middle;\n",
              "    }\n",
              "\n",
              "    .dataframe tbody tr th {\n",
              "        vertical-align: top;\n",
              "    }\n",
              "\n",
              "    .dataframe thead th {\n",
              "        text-align: right;\n",
              "    }\n",
              "</style>\n",
              "<table border=\"1\" class=\"dataframe\">\n",
              "  <thead>\n",
              "    <tr style=\"text-align: right;\">\n",
              "      <th></th>\n",
              "      <th>show_id</th>\n",
              "      <th>type</th>\n",
              "      <th>director</th>\n",
              "      <th>cast</th>\n",
              "      <th>country</th>\n",
              "      <th>date_added</th>\n",
              "      <th>release_year</th>\n",
              "      <th>rating</th>\n",
              "      <th>duration</th>\n",
              "      <th>listed_in</th>\n",
              "    </tr>\n",
              "  </thead>\n",
              "  <tbody>\n",
              "    <tr>\n",
              "      <th>0</th>\n",
              "      <td>s1</td>\n",
              "      <td>Movie</td>\n",
              "      <td>Kirsten Johnson</td>\n",
              "      <td>NaN</td>\n",
              "      <td>United States</td>\n",
              "      <td>September 25, 2021</td>\n",
              "      <td>2020</td>\n",
              "      <td>PG-13</td>\n",
              "      <td>90 min</td>\n",
              "      <td>Documentaries</td>\n",
              "    </tr>\n",
              "    <tr>\n",
              "      <th>1</th>\n",
              "      <td>s2</td>\n",
              "      <td>TV Show</td>\n",
              "      <td>NaN</td>\n",
              "      <td>Ama Qamata, Khosi Ngema, Gail Mabalane, Thaban...</td>\n",
              "      <td>South Africa</td>\n",
              "      <td>September 24, 2021</td>\n",
              "      <td>2021</td>\n",
              "      <td>TV-MA</td>\n",
              "      <td>2 Seasons</td>\n",
              "      <td>International TV Shows, TV Dramas, TV Mysteries</td>\n",
              "    </tr>\n",
              "    <tr>\n",
              "      <th>2</th>\n",
              "      <td>s3</td>\n",
              "      <td>TV Show</td>\n",
              "      <td>Julien Leclercq</td>\n",
              "      <td>Sami Bouajila, Tracy Gotoas, Samuel Jouy, Nabi...</td>\n",
              "      <td>NaN</td>\n",
              "      <td>September 24, 2021</td>\n",
              "      <td>2021</td>\n",
              "      <td>TV-MA</td>\n",
              "      <td>1 Season</td>\n",
              "      <td>Crime TV Shows, International TV Shows, TV Act...</td>\n",
              "    </tr>\n",
              "    <tr>\n",
              "      <th>3</th>\n",
              "      <td>s4</td>\n",
              "      <td>TV Show</td>\n",
              "      <td>NaN</td>\n",
              "      <td>NaN</td>\n",
              "      <td>NaN</td>\n",
              "      <td>September 24, 2021</td>\n",
              "      <td>2021</td>\n",
              "      <td>TV-MA</td>\n",
              "      <td>1 Season</td>\n",
              "      <td>Docuseries, Reality TV</td>\n",
              "    </tr>\n",
              "    <tr>\n",
              "      <th>4</th>\n",
              "      <td>s5</td>\n",
              "      <td>TV Show</td>\n",
              "      <td>NaN</td>\n",
              "      <td>Mayur More, Jitendra Kumar, Ranjan Raj, Alam K...</td>\n",
              "      <td>India</td>\n",
              "      <td>September 24, 2021</td>\n",
              "      <td>2021</td>\n",
              "      <td>TV-MA</td>\n",
              "      <td>2 Seasons</td>\n",
              "      <td>International TV Shows, Romantic TV Shows, TV ...</td>\n",
              "    </tr>\n",
              "    <tr>\n",
              "      <th>...</th>\n",
              "      <td>...</td>\n",
              "      <td>...</td>\n",
              "      <td>...</td>\n",
              "      <td>...</td>\n",
              "      <td>...</td>\n",
              "      <td>...</td>\n",
              "      <td>...</td>\n",
              "      <td>...</td>\n",
              "      <td>...</td>\n",
              "      <td>...</td>\n",
              "    </tr>\n",
              "    <tr>\n",
              "      <th>8802</th>\n",
              "      <td>s8803</td>\n",
              "      <td>Movie</td>\n",
              "      <td>David Fincher</td>\n",
              "      <td>Mark Ruffalo, Jake Gyllenhaal, Robert Downey J...</td>\n",
              "      <td>United States</td>\n",
              "      <td>November 20, 2019</td>\n",
              "      <td>2007</td>\n",
              "      <td>R</td>\n",
              "      <td>158 min</td>\n",
              "      <td>Cult Movies, Dramas, Thrillers</td>\n",
              "    </tr>\n",
              "    <tr>\n",
              "      <th>8803</th>\n",
              "      <td>s8804</td>\n",
              "      <td>TV Show</td>\n",
              "      <td>NaN</td>\n",
              "      <td>NaN</td>\n",
              "      <td>NaN</td>\n",
              "      <td>July 1, 2019</td>\n",
              "      <td>2018</td>\n",
              "      <td>TV-Y7</td>\n",
              "      <td>2 Seasons</td>\n",
              "      <td>Kids' TV, Korean TV Shows, TV Comedies</td>\n",
              "    </tr>\n",
              "    <tr>\n",
              "      <th>8804</th>\n",
              "      <td>s8805</td>\n",
              "      <td>Movie</td>\n",
              "      <td>Ruben Fleischer</td>\n",
              "      <td>Jesse Eisenberg, Woody Harrelson, Emma Stone, ...</td>\n",
              "      <td>United States</td>\n",
              "      <td>November 1, 2019</td>\n",
              "      <td>2009</td>\n",
              "      <td>R</td>\n",
              "      <td>88 min</td>\n",
              "      <td>Comedies, Horror Movies</td>\n",
              "    </tr>\n",
              "    <tr>\n",
              "      <th>8805</th>\n",
              "      <td>s8806</td>\n",
              "      <td>Movie</td>\n",
              "      <td>Peter Hewitt</td>\n",
              "      <td>Tim Allen, Courteney Cox, Chevy Chase, Kate Ma...</td>\n",
              "      <td>United States</td>\n",
              "      <td>January 11, 2020</td>\n",
              "      <td>2006</td>\n",
              "      <td>PG</td>\n",
              "      <td>88 min</td>\n",
              "      <td>Children &amp; Family Movies, Comedies</td>\n",
              "    </tr>\n",
              "    <tr>\n",
              "      <th>8806</th>\n",
              "      <td>s8807</td>\n",
              "      <td>Movie</td>\n",
              "      <td>Mozez Singh</td>\n",
              "      <td>Vicky Kaushal, Sarah-Jane Dias, Raaghav Chanan...</td>\n",
              "      <td>India</td>\n",
              "      <td>March 2, 2019</td>\n",
              "      <td>2015</td>\n",
              "      <td>TV-14</td>\n",
              "      <td>111 min</td>\n",
              "      <td>Dramas, International Movies, Music &amp; Musicals</td>\n",
              "    </tr>\n",
              "  </tbody>\n",
              "</table>\n",
              "<p>8807 rows × 10 columns</p>\n",
              "</div>\n",
              "      <button class=\"colab-df-convert\" onclick=\"convertToInteractive('df-9aed55a3-20e2-4e24-a5bc-0eeae03448c8')\"\n",
              "              title=\"Convert this dataframe to an interactive table.\"\n",
              "              style=\"display:none;\">\n",
              "        \n",
              "  <svg xmlns=\"http://www.w3.org/2000/svg\" height=\"24px\"viewBox=\"0 0 24 24\"\n",
              "       width=\"24px\">\n",
              "    <path d=\"M0 0h24v24H0V0z\" fill=\"none\"/>\n",
              "    <path d=\"M18.56 5.44l.94 2.06.94-2.06 2.06-.94-2.06-.94-.94-2.06-.94 2.06-2.06.94zm-11 1L8.5 8.5l.94-2.06 2.06-.94-2.06-.94L8.5 2.5l-.94 2.06-2.06.94zm10 10l.94 2.06.94-2.06 2.06-.94-2.06-.94-.94-2.06-.94 2.06-2.06.94z\"/><path d=\"M17.41 7.96l-1.37-1.37c-.4-.4-.92-.59-1.43-.59-.52 0-1.04.2-1.43.59L10.3 9.45l-7.72 7.72c-.78.78-.78 2.05 0 2.83L4 21.41c.39.39.9.59 1.41.59.51 0 1.02-.2 1.41-.59l7.78-7.78 2.81-2.81c.8-.78.8-2.07 0-2.86zM5.41 20L4 18.59l7.72-7.72 1.47 1.35L5.41 20z\"/>\n",
              "  </svg>\n",
              "      </button>\n",
              "      \n",
              "  <style>\n",
              "    .colab-df-container {\n",
              "      display:flex;\n",
              "      flex-wrap:wrap;\n",
              "      gap: 12px;\n",
              "    }\n",
              "\n",
              "    .colab-df-convert {\n",
              "      background-color: #E8F0FE;\n",
              "      border: none;\n",
              "      border-radius: 50%;\n",
              "      cursor: pointer;\n",
              "      display: none;\n",
              "      fill: #1967D2;\n",
              "      height: 32px;\n",
              "      padding: 0 0 0 0;\n",
              "      width: 32px;\n",
              "    }\n",
              "\n",
              "    .colab-df-convert:hover {\n",
              "      background-color: #E2EBFA;\n",
              "      box-shadow: 0px 1px 2px rgba(60, 64, 67, 0.3), 0px 1px 3px 1px rgba(60, 64, 67, 0.15);\n",
              "      fill: #174EA6;\n",
              "    }\n",
              "\n",
              "    [theme=dark] .colab-df-convert {\n",
              "      background-color: #3B4455;\n",
              "      fill: #D2E3FC;\n",
              "    }\n",
              "\n",
              "    [theme=dark] .colab-df-convert:hover {\n",
              "      background-color: #434B5C;\n",
              "      box-shadow: 0px 1px 3px 1px rgba(0, 0, 0, 0.15);\n",
              "      filter: drop-shadow(0px 1px 2px rgba(0, 0, 0, 0.3));\n",
              "      fill: #FFFFFF;\n",
              "    }\n",
              "  </style>\n",
              "\n",
              "      <script>\n",
              "        const buttonEl =\n",
              "          document.querySelector('#df-9aed55a3-20e2-4e24-a5bc-0eeae03448c8 button.colab-df-convert');\n",
              "        buttonEl.style.display =\n",
              "          google.colab.kernel.accessAllowed ? 'block' : 'none';\n",
              "\n",
              "        async function convertToInteractive(key) {\n",
              "          const element = document.querySelector('#df-9aed55a3-20e2-4e24-a5bc-0eeae03448c8');\n",
              "          const dataTable =\n",
              "            await google.colab.kernel.invokeFunction('convertToInteractive',\n",
              "                                                     [key], {});\n",
              "          if (!dataTable) return;\n",
              "\n",
              "          const docLinkHtml = 'Like what you see? Visit the ' +\n",
              "            '<a target=\"_blank\" href=https://colab.research.google.com/notebooks/data_table.ipynb>data table notebook</a>'\n",
              "            + ' to learn more about interactive tables.';\n",
              "          element.innerHTML = '';\n",
              "          dataTable['output_type'] = 'display_data';\n",
              "          await google.colab.output.renderOutput(dataTable, element);\n",
              "          const docLink = document.createElement('div');\n",
              "          docLink.innerHTML = docLinkHtml;\n",
              "          element.appendChild(docLink);\n",
              "        }\n",
              "      </script>\n",
              "    </div>\n",
              "  </div>\n",
              "  "
            ]
          },
          "metadata": {},
          "execution_count": 9
        }
      ]
    },
    {
      "cell_type": "code",
      "source": [
        "##Change Null to \"True\" or Averag\n",
        "original_df.director.fillna(\"No Director\", inplace = True)\n",
        "original_df.cast.fillna(\"No Cast\", inplace = True)\n",
        "original_df.country.fillna(\"Country Unavailable\", inplace = True)\n",
        "original_df.dropna(subset = [\"date_added\", \"rating\", \"duration\"], inplace = True)\n",
        "\n",
        "#check if Columns with missing Value\n",
        "print(original_df.isnull().any())"
      ],
      "metadata": {
        "colab": {
          "base_uri": "https://localhost:8080/"
        },
        "id": "2A-D9y3iUsHU",
        "outputId": "72b095c4-3d75-4937-9926-acac0fcb55d0"
      },
      "execution_count": null,
      "outputs": [
        {
          "output_type": "stream",
          "name": "stdout",
          "text": [
            "show_id         False\n",
            "type            False\n",
            "title           False\n",
            "director        False\n",
            "cast            False\n",
            "country         False\n",
            "date_added      False\n",
            "release_year    False\n",
            "rating          False\n",
            "duration        False\n",
            "listed_in       False\n",
            "description     False\n",
            "dtype: bool\n"
          ]
        }
      ]
    },
    {
      "cell_type": "markdown",
      "source": [
        "### Duration to Numeric"
      ],
      "metadata": {
        "id": "OOVUqXzTfJmX"
      }
    },
    {
      "cell_type": "code",
      "source": [
        "# convert duration columns to numeric\n",
        "duration_list = list()\n",
        "str_dur_list = []\n",
        "dur_list = original_df['duration'].to_list()\n",
        "\n",
        "for i in range(0, len(dur_list)):\n",
        "  y = dur_list[i].split()[0]\n",
        "  str_dur_list.append(y)\n",
        "  dur_list[i] = int(str_dur_list[i])\n",
        "#create new column \"new_dur\" with numeric duration\n",
        "original_df['new_dur'] = dur_list"
      ],
      "metadata": {
        "id": "aj67ZkYqNzkJ"
      },
      "execution_count": null,
      "outputs": []
    },
    {
      "cell_type": "code",
      "source": [
        "dur_list\n",
        "movies_dur = []\n",
        "show_dur = []\n",
        "#Grouping Series Vs Movies duration\n",
        "for i in dur_list:\n",
        "  if i<25:\n",
        "    show_dur.append(i)\n",
        "  else:\n",
        "    movies_dur.append(i)"
      ],
      "metadata": {
        "id": "2aSQnLPrNWJp"
      },
      "execution_count": null,
      "outputs": []
    },
    {
      "cell_type": "code",
      "source": [
        "from collections import Counter\n",
        "show_counter = Counter( show_dur )\n",
        "movies_counter = Counter(movies_dur)\n",
        "duration_counter = Counter(dur_list)\n",
        "print( show_counter.items())\n",
        "print( movies_counter.items())\n",
        "print(duration_counter.items())"
      ],
      "metadata": {
        "id": "tAzbYfEgGHM7",
        "outputId": "c0da68c6-d21a-4970-d649-96ccb22bf4af",
        "colab": {
          "base_uri": "https://localhost:8080/"
        }
      },
      "execution_count": null,
      "outputs": [
        {
          "output_type": "stream",
          "name": "stdout",
          "text": [
            "dict_items([(2, 421), (1, 1791), (9, 10), (4, 94), (5, 65), (3, 199), (23, 13), (6, 33), (13, 5), (7, 23), (10, 7), (8, 18), (17, 4), (12, 5), (15, 5), (21, 3), (24, 23), (22, 16), (14, 3), (20, 2), (16, 1), (11, 3), (19, 2), (18, 1)])\n",
            "dict_items([(90, 152), (91, 144), (125, 36), (104, 104), (127, 48), (67, 21), (94, 146), (161, 10), (61, 31), (166, 8), (147, 12), (103, 114), (97, 146), (106, 111), (111, 68), (110, 97), (105, 101), (96, 130), (124, 52), (116, 80), (98, 120), (115, 60), (122, 45), (99, 118), (88, 116), (100, 108), (102, 122), (93, 146), (95, 137), (85, 73), (83, 65), (113, 69), (182, 3), (48, 8), (145, 18), (87, 101), (92, 129), (80, 43), (117, 61), (128, 41), (119, 63), (143, 23), (114, 56), (118, 65), (108, 87), (63, 32), (121, 54), (142, 13), (154, 13), (120, 56), (82, 52), (109, 69), (101, 116), (86, 103), (229, 1), (76, 31), (89, 106), (156, 10), (112, 74), (107, 98), (129, 32), (135, 39), (136, 23), (165, 8), (150, 17), (133, 42), (70, 28), (84, 67), (140, 25), (78, 45), (64, 23), (59, 25), (139, 22), (69, 28), (148, 19), (189, 1), (141, 19), (130, 40), (138, 21), (81, 62), (132, 37), (123, 44), (65, 25), (68, 25), (66, 28), (62, 24), (74, 31), (131, 34), (39, 2), (46, 24), (38, 5), (126, 44), (155, 10), (159, 6), (137, 38), (273, 1), (36, 5), (34, 3), (77, 30), (60, 29), (49, 9), (58, 25), (72, 33), (204, 2), (212, 1), (25, 11), (73, 30), (29, 11), (47, 11), (32, 9), (35, 5), (71, 28), (149, 15), (33, 6), (54, 24), (224, 1), (162, 14), (37, 2), (75, 35), (79, 35), (55, 16), (158, 12), (164, 4), (173, 6), (181, 4), (185, 6), (51, 11), (151, 15), (42, 9), (134, 22), (177, 5), (52, 20), (53, 24), (57, 14), (28, 10), (50, 10), (26, 6), (45, 10), (171, 7), (27, 3), (44, 19), (146, 13), (157, 6), (203, 1), (41, 3), (30, 6), (194, 1), (233, 1), (237, 1), (230, 1), (195, 2), (253, 1), (152, 5), (190, 2), (160, 6), (208, 1), (180, 2), (144, 9), (174, 2), (170, 5), (192, 2), (209, 2), (187, 2), (172, 4), (186, 1), (193, 1), (176, 5), (56, 12), (169, 2), (40, 13), (168, 7), (312, 1), (153, 11), (214, 1), (31, 2), (163, 11), (179, 2), (43, 1), (200, 1), (196, 1), (167, 1), (178, 1), (228, 1), (205, 1), (201, 1), (191, 1)])\n",
            "dict_items([(90, 152), (2, 421), (1, 1791), (91, 144), (125, 36), (9, 10), (104, 104), (127, 48), (4, 94), (67, 21), (94, 146), (5, 65), (161, 10), (61, 31), (166, 8), (147, 12), (103, 114), (97, 146), (106, 111), (111, 68), (3, 199), (110, 97), (105, 101), (96, 130), (124, 52), (116, 80), (98, 120), (23, 13), (115, 60), (122, 45), (99, 118), (88, 116), (100, 108), (6, 33), (102, 122), (93, 146), (95, 137), (85, 73), (83, 65), (113, 69), (13, 5), (182, 3), (48, 8), (145, 18), (87, 101), (92, 129), (80, 43), (117, 61), (128, 41), (119, 63), (143, 23), (114, 56), (118, 65), (108, 87), (63, 32), (121, 54), (142, 13), (154, 13), (120, 56), (82, 52), (109, 69), (101, 116), (86, 103), (229, 1), (76, 31), (89, 106), (156, 10), (112, 74), (107, 98), (129, 32), (135, 39), (136, 23), (165, 8), (150, 17), (133, 42), (70, 28), (84, 67), (140, 25), (78, 45), (7, 23), (64, 23), (59, 25), (139, 22), (69, 28), (148, 19), (189, 1), (141, 19), (130, 40), (138, 21), (81, 62), (132, 37), (10, 7), (123, 44), (65, 25), (68, 25), (66, 28), (62, 24), (74, 31), (131, 34), (39, 2), (46, 24), (38, 5), (8, 18), (17, 4), (126, 44), (155, 10), (159, 6), (137, 38), (12, 5), (273, 1), (36, 5), (34, 3), (77, 30), (60, 29), (49, 9), (58, 25), (72, 33), (204, 2), (212, 1), (25, 11), (73, 30), (29, 11), (47, 11), (32, 9), (35, 5), (71, 28), (149, 15), (33, 6), (15, 5), (54, 24), (224, 1), (162, 14), (37, 2), (75, 35), (79, 35), (55, 16), (158, 12), (164, 4), (173, 6), (181, 4), (185, 6), (21, 3), (24, 23), (51, 11), (151, 15), (42, 9), (22, 16), (134, 22), (177, 5), (52, 20), (14, 3), (53, 24), (57, 14), (28, 10), (50, 10), (26, 6), (45, 10), (171, 7), (27, 3), (44, 19), (146, 13), (20, 2), (157, 6), (203, 1), (41, 3), (30, 6), (194, 1), (233, 1), (237, 1), (230, 1), (195, 2), (253, 1), (152, 5), (190, 2), (160, 6), (208, 1), (180, 2), (144, 9), (174, 2), (170, 5), (192, 2), (209, 2), (187, 2), (172, 4), (16, 1), (186, 1), (11, 3), (193, 1), (176, 5), (56, 12), (169, 2), (40, 13), (168, 7), (312, 1), (153, 11), (214, 1), (31, 2), (163, 11), (19, 2), (179, 2), (43, 1), (200, 1), (196, 1), (167, 1), (178, 1), (228, 1), (18, 1), (205, 1), (201, 1), (191, 1)])\n"
          ]
        }
      ]
    },
    {
      "cell_type": "code",
      "source": [
        "from numpy.lib.function_base import place\n",
        "import collections\n",
        "from matplotlib import pyplot as plt\n",
        "\n",
        "plt.rcParams[\"figure.figsize\"] = [8, 6]\n",
        "plt.rcParams[\"figure.autolayout\"] = True\n",
        "\n",
        "#Plot Movies & Duration\n",
        "plt.bar(movies_counter.keys(), movies_counter.values())\n",
        "plt.title('Movies & duration')\n",
        "plt.xlabel('Minutes')\n",
        "plt.ylabel('Count')\n",
        "plt.show()"
      ],
      "metadata": {
        "colab": {
          "base_uri": "https://localhost:8080/",
          "height": 441
        },
        "id": "tAkSZdF1Ih6_",
        "outputId": "5363a787-4069-4d3b-ab50-1170f2630a94"
      },
      "execution_count": null,
      "outputs": [
        {
          "output_type": "display_data",
          "data": {
            "text/plain": [
              "<Figure size 576x432 with 1 Axes>"
            ],
            "image/png": "[encoded data removed]"
          },
          "metadata": {
            "needs_background": "light"
          }
        }
      ]
    },
    {
      "cell_type": "markdown",
      "source": [
        "## Shows & Duration"
      ],
      "metadata": {
        "id": "paArIMs9kSA_"
      }
    },
    {
      "cell_type": "code",
      "source": [
        "#Plot Show & Duration\n",
        "plt.bar(show_counter.keys(), show_counter.values())\n",
        "plt.title('Show & duration')\n",
        "plt.xlabel('Series Number')\n",
        "plt.ylabel('Count')\n",
        "plt.show()"
      ],
      "metadata": {
        "colab": {
          "base_uri": "https://localhost:8080/",
          "height": 441
        },
        "id": "XbGtEOPGJJhe",
        "outputId": "d800c082-49f5-490e-dba7-a4e9ff67f5de"
      },
      "execution_count": null,
      "outputs": [
        {
          "output_type": "display_data",
          "data": {
            "text/plain": [
              "<Figure size 576x432 with 1 Axes>"
            ],
            "image/png": "[encoded data removed]"
          },
          "metadata": {
            "needs_background": "light"
          }
        }
      ]
    },
    {
      "cell_type": "markdown",
      "source": [
        "##Type"
      ],
      "metadata": {
        "id": "Vj9oPqtokNG6"
      }
    },
    {
      "cell_type": "code",
      "source": [
        "#Plot Movies & Show Quantity\n",
        "import numpy as np \n",
        "import matplotlib.pyplot as plt \n",
        "  \n",
        "X = ['Movies & TV Show']\n",
        "Ymovies = len(movies_dur)\n",
        "Zshows = len(show_dur)\n",
        "  \n",
        "X_axis = np.arange(len(X))\n",
        "  \n",
        "plt.bar(X_axis - 0.2, Ymovies, 0.4, label = 'Movies')\n",
        "plt.bar(X_axis + 0.2, Zshows, 0.4, label = 'TV Show')\n",
        "  \n",
        "plt.xticks(X_axis, X)\n",
        "#plt.xlabel(\"Groups\")\n",
        "plt.ylabel(\"Total Count\")\n",
        "plt.title(\"Movies Vs TV Show\")\n",
        "plt.legend()\n",
        "plt.show()"
      ],
      "metadata": {
        "colab": {
          "base_uri": "https://localhost:8080/",
          "height": 441
        },
        "id": "vOkTRHKPM8hA",
        "outputId": "0d889ac2-2194-4bee-e1e3-8204391b5091"
      },
      "execution_count": null,
      "outputs": [
        {
          "output_type": "display_data",
          "data": {
            "text/plain": [
              "<Figure size 576x432 with 1 Axes>"
            ],
            "image/png": "[encoded data removed]"
          },
          "metadata": {
            "needs_background": "light"
          }
        }
      ]
    },
    {
      "cell_type": "code",
      "source": [
        "#convert 'date_added' column to year\n",
        "date_added = list()\n",
        "date_added_list = []\n",
        "year_list = original_df['date_added'].to_list()\n",
        "\n",
        "for i in range(0, len(year_list)):\n",
        "  y = year_list[i].split()[2]\n",
        "  date_added_list.append(y)\n",
        "  date_added.append(int(date_added_list[i]))\n",
        "\n",
        "#create a new column \"year_added\" \n",
        "original_df['year_added'] = date_added"
      ],
      "metadata": {
        "id": "79hjipvTTriy"
      },
      "execution_count": null,
      "outputs": []
    },
    {
      "cell_type": "code",
      "source": [
        "#drop 'title', 'description', 'date_added'\n",
        "original_df = original_df.drop(columns = ['title', 'description', 'date_added'])"
      ],
      "metadata": {
        "id": "GKn5ZZDwnJQ0"
      },
      "execution_count": null,
      "outputs": []
    },
    {
      "cell_type": "code",
      "source": [
        "#create a new colum for year difference (release vs added)\n",
        "year_ad_list = original_df['year_added'].to_list()\n",
        "year_rel_list = original_df['release_year'].to_list()\n",
        "diff_year = []\n",
        "\n",
        "for i in range(0, len(year_ad_list)):\n",
        "  diff = year_ad_list[i]- year_rel_list[i]\n",
        "  diff_year.append(diff)\n",
        "\n",
        "original_df['Diff_added_rel'] = diff_year"
      ],
      "metadata": {
        "id": "qOwf2t_ynnjN"
      },
      "execution_count": null,
      "outputs": []
    },
    {
      "cell_type": "markdown",
      "source": [
        "## Find top 15 Director "
      ],
      "metadata": {
        "id": "5wokZ6s6kHxS"
      }
    },
    {
      "cell_type": "code",
      "source": [
        "director_list = original_df['director'].to_list()\n",
        "temp_list= []\n",
        "\n",
        "for i in director_list:\n",
        "  if (i != 'No Director'):\n",
        "    size = len(i.split(','))\n",
        "    if (size == 1):\n",
        "      temp_list.append(i)\n",
        "    else:\n",
        "      for x in range(0, size):\n",
        "        temp_list.append(i.split(',')[x])\n",
        "\n",
        "#temp_list\n",
        "from collections import Counter\n",
        "dir_counter = Counter(temp_list )\n",
        "print( dir_counter.items())\n",
        "\n",
        "dir_tuple = [(k, v) for k, v in dir_counter.items()]\n",
        "\n",
        "#sorting tuple\n",
        "def Sort_Tuple(tup): \n",
        "    # getting length of list of tuples\n",
        "    lst = len(tup) \n",
        "    for i in range(0, lst): \n",
        "        for j in range(0, lst-i-1): \n",
        "            if (tup[j][1] < tup[j + 1][1]): \n",
        "                temp = tup[j] \n",
        "                tup[j]= tup[j + 1] \n",
        "                tup[j + 1]= temp \n",
        "    return tup \n",
        "\n",
        "#print(Sort_Tuple(dir_tuple)) \n",
        "sorted_dir_tup = Sort_Tuple(dir_tuple)\n",
        "\n",
        "dir_names = []\n",
        "dir_count = []\n",
        "for i in range(0, len(sorted_dir_tup)):\n",
        "  dir_names.append(sorted_dir_tup[i][0])\n",
        "  dir_count.append(sorted_dir_tup[i][1])\n",
        "\n",
        "ser1 = pd.Series(dir_names)\n",
        "ser2 = pd.Series(dir_count)\n",
        "\n",
        "dir_df = pd.concat([ser1, ser2], axis = 1)\n",
        "# Rename Columns\n",
        "dir_df.columns = ['Directors', 'Counts']"
      ],
      "metadata": {
        "id": "gkVlwW7_pTtj"
      },
      "execution_count": null,
      "outputs": []
    },
    {
      "cell_type": "code",
      "source": [
        "print(dir_df)"
      ],
      "metadata": {
        "colab": {
          "base_uri": "https://localhost:8080/"
        },
        "id": "YJpy0st5tpPk",
        "outputId": "29e0c94c-7d8c-40fe-a0a6-5f877739e2a9"
      },
      "execution_count": null,
      "outputs": [
        {
          "output_type": "stream",
          "name": "stdout",
          "text": [
            "                    Directors  Counts\n",
            "0               Rajiv Chilaka      22\n",
            "1                 Raúl Campos      18\n",
            "2                   Jan Suter      18\n",
            "3                 Suhas Kadav      16\n",
            "4                Marcus Raboy      16\n",
            "...                       ...     ...\n",
            "5113                   Mu Chu       1\n",
            "5114  Chandra Prakash Dwivedi       1\n",
            "5115          Majid Al Ansari       1\n",
            "5116             Peter Hewitt       1\n",
            "5117              Mozez Singh       1\n",
            "\n",
            "[5118 rows x 2 columns]\n"
          ]
        }
      ]
    },
    {
      "cell_type": "code",
      "source": [
        "#print top 10 movie directors\n",
        "top10_dir = dir_df[:10]\n",
        "ax = sns.barplot(y=\"Directors\", x=\"Counts\", data=top10_dir, palette = \"crest\")\n",
        "plt.title(\"top 20 directors\")\n",
        "plt.xlabel(\"Counts of Movies/Show\")\n",
        "plt.ylabel(\"Directors\")\n",
        "plt.show()"
      ],
      "metadata": {
        "colab": {
          "base_uri": "https://localhost:8080/",
          "height": 301
        },
        "id": "gag1K_KDZWf9",
        "outputId": "ac8be470-14aa-4288-dcf7-929bb9e87341"
      },
      "execution_count": null,
      "outputs": [
        {
          "output_type": "display_data",
          "data": {
            "text/plain": [
              "<Figure size 432x288 with 1 Axes>"
            ],
            "image/png": "[encoded data removed]"
          },
          "metadata": {}
        }
      ]
    },
    {
      "cell_type": "markdown",
      "source": [
        "##Top Actors"
      ],
      "metadata": {
        "id": "hey0xWnRj-tF"
      }
    },
    {
      "cell_type": "code",
      "source": [
        "actor_list = original_df['cast'].to_list()\n",
        "temp_list= []\n",
        "\n",
        "#splitting cast list \n",
        "for i in actor_list:\n",
        "  if (i != 'No Genre'):\n",
        "    size = len(i.split(','))\n",
        "    if (size == 1):\n",
        "      temp_list.append(i)\n",
        "    else:\n",
        "      for x in range(0, size):\n",
        "        temp_list.append(i.split(',')[x])\n",
        "\n",
        "#Counting actor's frequency \n",
        "from collections import Counter\n",
        "genre_counter = Counter(temp_list )\n",
        "print( genre_counter.items())\n",
        "\n",
        "genre_tuple = [(k, v) for k, v in genre_counter.items()]\n",
        "\n",
        "#sorting tuple\n",
        "def Sort_Tuple(tup): \n",
        "    # getting length of list of tuples\n",
        "    lst = len(tup) \n",
        "    for i in range(0, lst): \n",
        "        for j in range(0, lst-i-1): \n",
        "            if (tup[j][1] < tup[j + 1][1]): \n",
        "                temp = tup[j] \n",
        "                tup[j]= tup[j + 1] \n",
        "                tup[j + 1]= temp \n",
        "    return tup \n",
        "\n",
        "#print(Sort_Tuple(dir_tuple)) \n",
        "sorted_genre_tup = Sort_Tuple(genre_tuple)\n",
        "\n",
        "genre = []\n",
        "genre_count = []\n",
        "for i in range(0, len(sorted_genre_tup)):\n",
        "  genre.append(sorted_genre_tup[i][0])\n",
        "  genre_count.append(sorted_genre_tup[i][1])\n",
        "\n",
        "ser3 = pd.Series(genre)\n",
        "ser4 = pd.Series(genre_count)\n",
        "\n",
        "genre_df = pd.concat([ser3, ser4], axis = 1)\n",
        "# Rename Columns\n",
        "genre_df.columns = ['Genre', 'Counts']"
      ],
      "metadata": {
        "id": "9WSDy9SHvqAa"
      },
      "execution_count": null,
      "outputs": []
    },
    {
      "cell_type": "code",
      "source": [
        "print(genre_df)"
      ],
      "metadata": {
        "colab": {
          "base_uri": "https://localhost:8080/"
        },
        "outputId": "61796981-5ea0-4f1a-dde0-5ac99c3e9802",
        "id": "3u4P6BQmvqAc"
      },
      "execution_count": null,
      "outputs": [
        {
          "output_type": "stream",
          "name": "stdout",
          "text": [
            "                        Genre  Counts\n",
            "0                     No Cast     825\n",
            "1                 Anupam Kher      39\n",
            "2                Rupa Bhimani      31\n",
            "3            Takahiro Sakurai      30\n",
            "4               Julie Tejwani      28\n",
            "...                       ...     ...\n",
            "39244             Ryan Newman       1\n",
            "39245         Raaghav Chanana       1\n",
            "39246           Malkeet Rauni       1\n",
            "39247          Anita Shabdish       1\n",
            "39248   Chittaranjan Tripathy       1\n",
            "\n",
            "[39249 rows x 2 columns]\n"
          ]
        }
      ]
    },
    {
      "cell_type": "code",
      "source": [
        "#graph top 10 actors\n",
        "top_actors = genre_df[1:10]\n",
        "ax = sns.barplot(y=\"Genre\", x=\"Counts\", data=top_actors, palette = 'magma')\n",
        "plt.title(\"top 10 Actors\")\n",
        "plt.xlabel(\"Counts of Movies/Show\")\n",
        "plt.ylabel(\"Actors\")\n",
        "plt.show()"
      ],
      "metadata": {
        "colab": {
          "base_uri": "https://localhost:8080/",
          "height": 441
        },
        "id": "3BeujyB9ct9N",
        "outputId": "a55a5407-113d-47c1-acb2-099cfe8130b2"
      },
      "execution_count": null,
      "outputs": [
        {
          "output_type": "display_data",
          "data": {
            "text/plain": [
              "<Figure size 576x432 with 1 Axes>"
            ],
            "image/png": "[encoded data removed]"
          },
          "metadata": {
            "needs_background": "light"
          }
        }
      ]
    },
    {
      "cell_type": "markdown",
      "source": [
        "## Top Genre"
      ],
      "metadata": {
        "id": "e1sopQDRj4NM"
      }
    },
    {
      "cell_type": "code",
      "source": [
        "genre_list = original_df['listed_in'].to_list()\n",
        "temp_list= []\n",
        "\n",
        "#directors_new = director_list\n",
        "for i in genre_list:\n",
        "  if (i != 'No Cast'):\n",
        "    size = len(i.split(','))\n",
        "    if (size == 1):\n",
        "      temp_list.append(i)\n",
        "    else:\n",
        "      for x in range(0, size):\n",
        "        temp_list.append(i.split(',')[x])\n",
        "#temp_list\n",
        "from collections import Counter\n",
        "actor_counter = Counter(temp_list )\n",
        "print( actor_counter.items())\n",
        "\n",
        "actor_tuple = [(k, v) for k, v in actor_counter.items()]\n",
        "\n",
        "#sorting tuple\n",
        "def Sort_Tuple(tup): \n",
        "    # getting length of list of tuples\n",
        "    lst = len(tup) \n",
        "    for i in range(0, lst): \n",
        "        for j in range(0, lst-i-1): \n",
        "            if (tup[j][1] < tup[j + 1][1]): \n",
        "                temp = tup[j] \n",
        "                tup[j]= tup[j + 1] \n",
        "                tup[j + 1]= temp \n",
        "    return tup \n",
        "\n",
        "#print(Sort_Tuple(dir_tuple)) \n",
        "sorted_actor_tup = Sort_Tuple(actor_tuple)\n",
        "\n",
        "actor_names = []\n",
        "actor_count = []\n",
        "for i in range(0, len(sorted_actor_tup)):\n",
        "  actor_names.append(sorted_actor_tup[i][0])\n",
        "  actor_count.append(sorted_actor_tup[i][1])\n",
        "\n",
        "\n",
        "ser3 = pd.Series(actor_names)\n",
        "ser4 = pd.Series(actor_count)\n",
        "\n",
        "actor_df = pd.concat([ser3, ser4], axis = 1)\n",
        "# Rename Columns\n",
        "actor_df.columns = ['Cast', 'Counts']"
      ],
      "metadata": {
        "id": "e8A2cXfgzPzu"
      },
      "execution_count": null,
      "outputs": []
    },
    {
      "cell_type": "code",
      "source": [
        "print(actor_df)"
      ],
      "metadata": {
        "colab": {
          "base_uri": "https://localhost:8080/"
        },
        "outputId": "2f18e913-75c7-4ddc-d8ae-2ff8d44151b1",
        "id": "SJDEvq3azPzw"
      },
      "execution_count": null,
      "outputs": [
        {
          "output_type": "stream",
          "name": "stdout",
          "text": [
            "                         Cast  Counts\n",
            "0        International Movies    2624\n",
            "1                      Dramas    1599\n",
            "2                    Comedies    1210\n",
            "3          Action & Adventure     859\n",
            "4               Documentaries     829\n",
            "..                        ...     ...\n",
            "68            Romantic Movies       3\n",
            "69  Spanish-Language TV Shows       2\n",
            "70               LGBTQ Movies       1\n",
            "71        TV Sci-Fi & Fantasy       1\n",
            "72              Sports Movies       1\n",
            "\n",
            "[73 rows x 2 columns]\n"
          ]
        }
      ]
    },
    {
      "cell_type": "code",
      "source": [
        "#print top 10 Genre\n",
        "import seaborn as sns\n",
        "import matplotlib.pyplot as plt\n",
        "top_genre = actor_df[:10]\n",
        "ax = sns.barplot(y=\"Cast\", x=\"Counts\", data=top_genre, palette = \"viridis\")\n",
        "plt.title(\"Top 10 of Genre\")\n",
        "plt.xlabel(\"Movies/TV Show Count\")\n",
        "plt.ylabel(\"Genre\")\n",
        "plt.show()"
      ],
      "metadata": {
        "colab": {
          "base_uri": "https://localhost:8080/",
          "height": 295
        },
        "outputId": "7ddc6ecb-5ea6-4a7a-9d74-71f33253ce24",
        "id": "M1L0guDceT_f"
      },
      "execution_count": null,
      "outputs": [
        {
          "output_type": "display_data",
          "data": {
            "text/plain": [
              "<Figure size 432x288 with 1 Axes>"
            ],
            "image/png": "[encoded data removed]"
          },
          "metadata": {
            "needs_background": "light"
          }
        }
      ]
    },
    {
      "cell_type": "code",
      "source": [
        "import numpy as np\n",
        "import pandas as pd\n",
        "import matplotlib\n",
        "import matplotlib.pyplot as plt\n",
        "import seaborn as sns"
      ],
      "metadata": {
        "id": "8wf-6JFlZC78"
      },
      "execution_count": null,
      "outputs": []
    },
    {
      "cell_type": "code",
      "source": [
        "original_df.columns"
      ],
      "metadata": {
        "colab": {
          "base_uri": "https://localhost:8080/"
        },
        "id": "WA4EcPzBbJJ_",
        "outputId": "6bba205c-b9fb-44fe-e6f0-4da7e7615565"
      },
      "execution_count": null,
      "outputs": [
        {
          "output_type": "execute_result",
          "data": {
            "text/plain": [
              "Index(['show_id', 'type', 'director', 'cast', 'country', 'release_year',\n",
              "       'rating', 'duration', 'listed_in', 'new_dur', 'year_added',\n",
              "       'Diff_added_rel'],\n",
              "      dtype='object')"
            ]
          },
          "metadata": {},
          "execution_count": 101
        }
      ]
    },
    {
      "cell_type": "markdown",
      "source": [
        "## Country"
      ],
      "metadata": {
        "id": "CDAeO4tHjx04"
      }
    },
    {
      "cell_type": "code",
      "source": [
        "county_list = original_df['country'].to_list()"
      ],
      "metadata": {
        "id": "-QWJ5Gq8v7wh"
      },
      "execution_count": null,
      "outputs": []
    },
    {
      "cell_type": "code",
      "source": [
        "temp_list= []"
      ],
      "metadata": {
        "id": "T6vnDBy8v7wi"
      },
      "execution_count": null,
      "outputs": []
    },
    {
      "cell_type": "code",
      "source": [
        "#directors_new = director_list\n",
        "for i in county_list:\n",
        "  if (i != 'Country Unavailable'):\n",
        "    size = len(i.split(','))\n",
        "    if (size == 1):\n",
        "      temp_list.append(i)\n",
        "    else:\n",
        "      for x in range(0, size):\n",
        "        temp_list.append(i.split(',')[x])"
      ],
      "metadata": {
        "id": "XsTY4ZHsv7wj"
      },
      "execution_count": null,
      "outputs": []
    },
    {
      "cell_type": "code",
      "source": [
        "#temp_list\n",
        "from collections import Counter\n",
        "county_counter = Counter(temp_list )\n",
        "print( county_counter.items())"
      ],
      "metadata": {
        "colab": {
          "base_uri": "https://localhost:8080/"
        },
        "outputId": "fc6411ef-6dbb-4f3e-bb8d-6c507da09b0f",
        "id": "vvQGdWByv7wj"
      },
      "execution_count": null,
      "outputs": [
        {
          "output_type": "stream",
          "name": "stdout",
          "text": [
            "dict_items([('United States', 6404), ('South Africa', 82), ('India', 2016), (' Ghana', 2), (' Burkina Faso', 2), (' United Kingdom', 356), (' Germany', 246), (' Ethiopia', 2), ('United Kingdom', 1254), ('Germany', 206), (' Czech Republic', 32), ('Mexico', 268), ('Turkey', 222), ('Australia', 230), (' India', 76), (' France', 362), ('Finland', 12), ('China', 200), (' Canada', 348), (' United States', 958), (' Japan', 118), ('Nigeria', 192), ('Japan', 514), ('Spain', 362), ('France', 424), ('Belgium', 36), ('South Korea', 422), (' Singapore', 26), (' Australia', 86), (' Mexico', 70), (' Italy', 66), (' Romania', 8), ('Argentina', 152), (' Venezuela', 4), (' Hong Kong', 52), ('Russia', 38), ('Canada', 542), ('Hong Kong', 158), (' China', 124), ('Italy', 132), ('', 14), (' South Korea', 40), ('Ireland', 56), (' Nepal', 4), ('New Zealand', 34), (' Brazil', 26), (' Greece', 20), ('Jordan', 4), ('Colombia', 80), ('Switzerland', 16), ('Israel', 44), ('Brazil', 168), (' Spain', 102), ('Taiwan', 170), (' Nigeria', 14), ('Bulgaria', 10), (' Algeria', 6), ('Poland', 60), (' Israel', 16), ('Saudi Arabia', 22), ('Thailand', 130), ('Indonesia', 170), ('Egypt', 224), (' Denmark', 36), (' Switzerland', 22), ('Kuwait', 14), (' Netherlands', 44), (' Belgium', 144), ('Malaysia', 46), (' New Zealand', 32), ('Vietnam', 14), (' Hungary', 12), ('Sweden', 38), ('Lebanon', 48), ('Romania', 20), (' Syria', 4), ('Philippines', 160), ('Iceland', 12), ('Denmark', 60), (' Indonesia', 10), (' United Arab Emirates', 32), ('United Arab Emirates', 42), (' Colombia', 24), ('Netherlands', 56), (' Bulgaria', 10), ('Norway', 42), ('Syria', 2), (' Lebanon', 14), (' Qatar', 20), ('Mauritius', 4), (' South Africa', 42), ('Austria', 18), (' Russia', 16), ('Czech Republic', 12), (' Taiwan', 8), ('Cameroon', 2), (' Palestine', 2), ('Uruguay', 18), (' Saudi Arabia', 4), (' Poland', 22), ('Kenya', 8), (' Argentina', 30), (' Chile', 14), (' Thailand', 10), ('Chile', 44), ('Luxembourg', 2), (' Cambodia', 8), ('Bangladesh', 6), ('Portugal', 8), (' Ireland', 36), ('Hungary', 10), (' Cayman Islands', 4), ('Senegal', 2), (' Finland', 10), (' Iceland', 10), ('Singapore', 56), (' Serbia', 8), (' Malta', 6), (' Luxembourg', 22), (' Norway', 18), ('Serbia', 6), ('Namibia', 2), (' Kenya', 4), (' Angola', 2), (' Philippines', 6), ('Peru', 12), ('Mozambique', 2), ('Belarus', 2), ('Ghana', 8), (' Egypt', 10), (' Jordan', 14), ('Zimbabwe', 2), (' Turkey', 4), ('Puerto Rico', 2), ('Pakistan', 44), ('Cyprus', 2), (' Malaysia', 6), (' Sweden', 46), (' Uruguay', 10), (' Guatemala', 2), (' Senegal', 4), (' Portugal', 4), (' Peru', 8), (' Iraq', 4), (' Malawi', 2), ('Paraguay', 2), (' Pakistan', 4), ('Croatia', 4), (' Iran', 6), (' West Germany', 8), (' Austria', 6), (' Albania', 2), ('Cambodia', 4), (' Kuwait', 2), ('Georgia', 4), ('Soviet Union', 2), (' Soviet Union', 4), ('Greece', 2), (' Morocco', 12), (' Slovakia', 2), ('West Germany', 2), (' Ukraine', 2), (' Bermuda', 2), (' Ecuador', 2), ('Iran', 2), (' Armenia', 2), (' Mongolia', 2), (' Bahamas', 2), (' Sri Lanka', 2), (' Bangladesh', 2), (' Zimbabwe', 4), (' Latvia', 2), (' Liechtenstein', 2), ('Venezuela', 4), (' Cuba', 2), (' Nicaragua', 2), (' Croatia', 4), ('Slovenia', 2), (' Dominican Republic', 2), (' Samoa', 2), (' Azerbaijan', 2), (' Botswana', 2), (' Vatican City', 2), ('Guatemala', 2), ('Ukraine', 4), ('Jamaica', 2), (' Kazakhstan', 2), (' Lithuania', 2), (' Afghanistan', 2), ('Somalia', 2), (' Sudan', 2), (' Panama', 2), (' Slovenia', 4), (' Namibia', 2), (' Uganda', 2), (' East Germany', 2), (' Montenegro', 2)])\n"
          ]
        }
      ]
    },
    {
      "cell_type": "code",
      "source": [
        "county_counter.keys()"
      ],
      "metadata": {
        "colab": {
          "base_uri": "https://localhost:8080/"
        },
        "id": "keI57OiUyEW_",
        "outputId": "6f494771-76f7-4982-b000-2daf0dd8cdda"
      },
      "execution_count": null,
      "outputs": [
        {
          "output_type": "execute_result",
          "data": {
            "text/plain": [
              "dict_keys(['United States', 'South Africa', 'India', ' Ghana', ' Burkina Faso', ' United Kingdom', ' Germany', ' Ethiopia', 'United Kingdom', 'Germany', ' Czech Republic', 'Mexico', 'Turkey', 'Australia', ' India', ' France', 'Finland', 'China', ' Canada', ' United States', ' Japan', 'Nigeria', 'Japan', 'Spain', 'France', 'Belgium', 'South Korea', ' Singapore', ' Australia', ' Mexico', ' Italy', ' Romania', 'Argentina', ' Venezuela', ' Hong Kong', 'Russia', 'Canada', 'Hong Kong', ' China', 'Italy', '', ' South Korea', 'Ireland', ' Nepal', 'New Zealand', ' Brazil', ' Greece', 'Jordan', 'Colombia', 'Switzerland', 'Israel', 'Brazil', ' Spain', 'Taiwan', ' Nigeria', 'Bulgaria', ' Algeria', 'Poland', ' Israel', 'Saudi Arabia', 'Thailand', 'Indonesia', 'Egypt', ' Denmark', ' Switzerland', 'Kuwait', ' Netherlands', ' Belgium', 'Malaysia', ' New Zealand', 'Vietnam', ' Hungary', 'Sweden', 'Lebanon', 'Romania', ' Syria', 'Philippines', 'Iceland', 'Denmark', ' Indonesia', ' United Arab Emirates', 'United Arab Emirates', ' Colombia', 'Netherlands', ' Bulgaria', 'Norway', 'Syria', ' Lebanon', ' Qatar', 'Mauritius', ' South Africa', 'Austria', ' Russia', 'Czech Republic', ' Taiwan', 'Cameroon', ' Palestine', 'Uruguay', ' Saudi Arabia', ' Poland', 'Kenya', ' Argentina', ' Chile', ' Thailand', 'Chile', 'Luxembourg', ' Cambodia', 'Bangladesh', 'Portugal', ' Ireland', 'Hungary', ' Cayman Islands', 'Senegal', ' Finland', ' Iceland', 'Singapore', ' Serbia', ' Malta', ' Luxembourg', ' Norway', 'Serbia', 'Namibia', ' Kenya', ' Angola', ' Philippines', 'Peru', 'Mozambique', 'Belarus', 'Ghana', ' Egypt', ' Jordan', 'Zimbabwe', ' Turkey', 'Puerto Rico', 'Pakistan', 'Cyprus', ' Malaysia', ' Sweden', ' Uruguay', ' Guatemala', ' Senegal', ' Portugal', ' Peru', ' Iraq', ' Malawi', 'Paraguay', ' Pakistan', 'Croatia', ' Iran', ' West Germany', ' Austria', ' Albania', 'Cambodia', ' Kuwait', 'Georgia', 'Soviet Union', ' Soviet Union', 'Greece', ' Morocco', ' Slovakia', 'West Germany', ' Ukraine', ' Bermuda', ' Ecuador', 'Iran', ' Armenia', ' Mongolia', ' Bahamas', ' Sri Lanka', ' Bangladesh', ' Zimbabwe', ' Latvia', ' Liechtenstein', 'Venezuela', ' Cuba', ' Nicaragua', ' Croatia', 'Slovenia', ' Dominican Republic', ' Samoa', ' Azerbaijan', ' Botswana', ' Vatican City', 'Guatemala', 'Ukraine', 'Jamaica', ' Kazakhstan', ' Lithuania', ' Afghanistan', 'Somalia', ' Sudan', ' Panama', ' Slovenia', ' Namibia', ' Uganda', ' East Germany', ' Montenegro'])"
            ]
          },
          "metadata": {},
          "execution_count": 23
        }
      ]
    },
    {
      "cell_type": "code",
      "source": [
        "county_tuple = [(k, v) for k, v in county_counter.items()]\n",
        "# Printing list of tuple\n",
        "print(list)"
      ],
      "metadata": {
        "colab": {
          "base_uri": "https://localhost:8080/"
        },
        "outputId": "879b0d53-8bb8-4ead-b7d6-b5df41d47bb4",
        "id": "9ftF5fgXxDNp"
      },
      "execution_count": null,
      "outputs": [
        {
          "output_type": "stream",
          "name": "stdout",
          "text": [
            "<class 'list'>\n"
          ]
        }
      ]
    },
    {
      "cell_type": "code",
      "source": [
        "#sorting tuple\n",
        "def Sort_Tuple(tup): \n",
        "    # getting length of list of tuples\n",
        "    lst = len(tup) \n",
        "    for i in range(0, lst): \n",
        "        for j in range(0, lst-i-1): \n",
        "            if (tup[j][1] < tup[j + 1][1]): \n",
        "                temp = tup[j] \n",
        "                tup[j]= tup[j + 1] \n",
        "                tup[j + 1]= temp \n",
        "    return tup "
      ],
      "metadata": {
        "id": "KwjV8r0KxDNr"
      },
      "execution_count": null,
      "outputs": []
    },
    {
      "cell_type": "code",
      "source": [
        "#print(Sort_Tuple(dir_tuple)) \n",
        "sorted_county_tup = Sort_Tuple(county_tuple)"
      ],
      "metadata": {
        "id": "p4DAvhqvxDNr"
      },
      "execution_count": null,
      "outputs": []
    },
    {
      "cell_type": "code",
      "source": [
        "county = []\n",
        "county_count = []\n",
        "for i in range(0, len(sorted_county_tup)):\n",
        "  county.append(sorted_county_tup[i][0])\n",
        "  county_count.append(sorted_county_tup[i][1])"
      ],
      "metadata": {
        "id": "p1vZioKixDNr"
      },
      "execution_count": null,
      "outputs": []
    },
    {
      "cell_type": "code",
      "source": [
        "ser3 = pd.Series(county)\n",
        "ser4 = pd.Series(county_count)"
      ],
      "metadata": {
        "id": "ISiTNeF5xDNr"
      },
      "execution_count": null,
      "outputs": []
    },
    {
      "cell_type": "code",
      "source": [
        "country_df = pd.concat([ser3, ser4], axis = 1)\n",
        "# Rename Columns\n",
        "country_df.columns = ['Country', 'Counts']"
      ],
      "metadata": {
        "id": "FuDg28QsxDNr"
      },
      "execution_count": null,
      "outputs": []
    },
    {
      "cell_type": "code",
      "source": [
        "print(country_df)"
      ],
      "metadata": {
        "colab": {
          "base_uri": "https://localhost:8080/"
        },
        "outputId": "9ed28535-3952-4281-86f3-61a1f44cfbe6",
        "id": "lUbnDtH-xDNs"
      },
      "execution_count": null,
      "outputs": [
        {
          "output_type": "stream",
          "name": "stdout",
          "text": [
            "            Country  Counts\n",
            "0     United States    6404\n",
            "1             India    2016\n",
            "2    United Kingdom    1254\n",
            "3     United States     958\n",
            "4            Canada     542\n",
            "..              ...     ...\n",
            "192          Panama       2\n",
            "193         Namibia       2\n",
            "194          Uganda       2\n",
            "195    East Germany       2\n",
            "196      Montenegro       2\n",
            "\n",
            "[197 rows x 2 columns]\n"
          ]
        }
      ]
    },
    {
      "cell_type": "code",
      "source": [
        "country_df['Counts'].sum()"
      ],
      "metadata": {
        "colab": {
          "base_uri": "https://localhost:8080/"
        },
        "id": "rjdtxWBun0L7",
        "outputId": "2e6824cc-3d81-4b1c-991b-5d40bcf409c9"
      },
      "execution_count": null,
      "outputs": [
        {
          "output_type": "execute_result",
          "data": {
            "text/plain": [
              "20008"
            ]
          },
          "metadata": {},
          "execution_count": 31
        }
      ]
    },
    {
      "cell_type": "code",
      "source": [
        "import seaborn as sns\n",
        "import matplotlib.pyplot as plt"
      ],
      "metadata": {
        "id": "nAq75KexKqgg"
      },
      "execution_count": null,
      "outputs": []
    },
    {
      "cell_type": "code",
      "source": [
        "top_country = country_df[:14]"
      ],
      "metadata": {
        "id": "W2ebFUOJjNIv"
      },
      "execution_count": null,
      "outputs": []
    },
    {
      "cell_type": "code",
      "source": [
        "ax = sns.barplot(y=\"Country\", x=\"Counts\", data=top_country, palette = \"crest\")\n",
        "plt.title(\"Top 15 countries Movies Produced\")\n",
        "plt.xlabel(\"Movies/TV Shows Count\")\n",
        "plt.ylabel(\"Countries\")\n",
        "plt.show()"
      ],
      "metadata": {
        "colab": {
          "base_uri": "https://localhost:8080/",
          "height": 295
        },
        "outputId": "7a0d0a0a-a0d1-4517-bc7e-096fd0fc893d",
        "id": "qUycwdnljNIw"
      },
      "execution_count": null,
      "outputs": [
        {
          "output_type": "display_data",
          "data": {
            "text/plain": [
              "<Figure size 432x288 with 1 Axes>"
            ],
            "image/png": "[encoded data removed]"
          },
          "metadata": {
            "needs_background": "light"
          }
        }
      ]
    },
    {
      "cell_type": "code",
      "source": [
        "original_df['release_year']"
      ],
      "metadata": {
        "colab": {
          "base_uri": "https://localhost:8080/"
        },
        "id": "zlv0IdpP2HLy",
        "outputId": "f20e2f9d-054f-45f2-b95c-9f5d557e5f82"
      },
      "execution_count": null,
      "outputs": [
        {
          "output_type": "execute_result",
          "data": {
            "text/plain": [
              "0       2020\n",
              "1       2021\n",
              "2       2021\n",
              "3       2021\n",
              "4       2021\n",
              "        ... \n",
              "8802    2007\n",
              "8803    2018\n",
              "8804    2009\n",
              "8805    2006\n",
              "8806    2015\n",
              "Name: release_year, Length: 8790, dtype: int64"
            ]
          },
          "metadata": {},
          "execution_count": 121
        }
      ]
    },
    {
      "cell_type": "markdown",
      "source": [
        "## Rating & Types"
      ],
      "metadata": {
        "id": "PD5eK1S2kfjq"
      }
    },
    {
      "cell_type": "code",
      "source": [
        "ax = sns.countplot(x=\"rating\", hue=\"type\", data=original_df)\n",
        "plt.title(\"Rating & Types\")\n",
        "plt.xlabel(\"Counts\")\n",
        "plt.ylabel(\"Rating\")\n",
        "plt.show()"
      ],
      "metadata": {
        "colab": {
          "base_uri": "https://localhost:8080/",
          "height": 441
        },
        "id": "37_UHgkfxxmY",
        "outputId": "04827788-affb-46e5-d977-05c243dfd208"
      },
      "execution_count": null,
      "outputs": [
        {
          "output_type": "display_data",
          "data": {
            "text/plain": [
              "<Figure size 576x432 with 1 Axes>"
            ],
            "image/png": "[encoded data removed]"
          },
          "metadata": {
            "needs_background": "light"
          }
        }
      ]
    },
    {
      "cell_type": "markdown",
      "source": [
        "## Release Year & Added Year & Types"
      ],
      "metadata": {
        "id": "dmVD6PL5kk5v"
      }
    },
    {
      "cell_type": "code",
      "source": [
        "ax = sns.countplot(x=\"Diff_added_rel\", hue=\"type\", data=original_df,\n",
        "              order=original_df.Diff_added_rel.value_counts().iloc[:10].index)\n",
        "\n",
        "plt.title(\"Difference between Release Year & Added Year\")\n",
        "plt.xlabel(\"Counts\")\n",
        "plt.ylabel(\"Year Difference \")\n",
        "plt.show()"
      ],
      "metadata": {
        "colab": {
          "base_uri": "https://localhost:8080/",
          "height": 441
        },
        "id": "IA6qvBuz4wxA",
        "outputId": "b5c47caf-0432-4ba9-a50d-5d7c3882ae7d"
      },
      "execution_count": null,
      "outputs": [
        {
          "output_type": "display_data",
          "data": {
            "text/plain": [
              "<Figure size 576x432 with 1 Axes>"
            ],
            "image/png": "[encoded data removed]"
          },
          "metadata": {
            "needs_background": "light"
          }
        }
      ]
    },
    {
      "cell_type": "code",
      "source": [
        ""
      ],
      "metadata": {
        "id": "yTKdapxAeQ9Q"
      },
      "execution_count": null,
      "outputs": []
    },
    {
      "cell_type": "markdown",
      "source": [
        "## Release Year & Types"
      ],
      "metadata": {
        "id": "Ji_L8BJbks-k"
      }
    },
    {
      "cell_type": "code",
      "source": [
        "ax = sns.countplot(x=\"release_year\", hue=\"type\", data=original_df,palette = 'magma',\n",
        "              order=original_df.release_year.value_counts().iloc[:15].index)\n",
        "\n",
        "plt.title(\"Relase Year & Types\")\n",
        "plt.xlabel(\"Year\")\n",
        "plt.ylabel(\"Count\")\n",
        "plt.show()"
      ],
      "metadata": {
        "colab": {
          "base_uri": "https://localhost:8080/",
          "height": 441
        },
        "id": "5JJEXqmL8EtW",
        "outputId": "5bb622ff-648a-4ddc-8a2a-2932c07f1aa9"
      },
      "execution_count": null,
      "outputs": [
        {
          "output_type": "display_data",
          "data": {
            "text/plain": [
              "<Figure size 576x432 with 1 Axes>"
            ],
            "image/png": "[encoded data removed]"
          },
          "metadata": {
            "needs_background": "light"
          }
        }
      ]
    },
    {
      "cell_type": "code",
      "source": [
        "original_df.columns"
      ],
      "metadata": {
        "colab": {
          "base_uri": "https://localhost:8080/"
        },
        "id": "klxSV9yGiRgk",
        "outputId": "8e7ef2f5-0326-483f-f862-469dddb4129d"
      },
      "execution_count": null,
      "outputs": [
        {
          "output_type": "execute_result",
          "data": {
            "text/plain": [
              "Index(['show_id', 'type', 'director', 'cast', 'country', 'release_year',\n",
              "       'rating', 'duration', 'listed_in', 'new_dur', 'year_added',\n",
              "       'Diff_added_rel'],\n",
              "      dtype='object')"
            ]
          },
          "metadata": {},
          "execution_count": 112
        }
      ]
    },
    {
      "cell_type": "code",
      "source": [
        "year_df = original_df.drop(columns = ['show_id', 'director', 'cast', 'country',\n",
        "       'rating', 'duration', 'listed_in', 'new_dur', 'year_added',\n",
        "       'Diff_added_rel'])"
      ],
      "metadata": {
        "id": "8PG-hFUYeU1U"
      },
      "execution_count": null,
      "outputs": []
    },
    {
      "cell_type": "code",
      "source": [
        "year_df"
      ],
      "metadata": {
        "colab": {
          "base_uri": "https://localhost:8080/",
          "height": 424
        },
        "id": "VL1DWRe75_iH",
        "outputId": "95feb72b-fdd7-4bdf-9996-a0c28fcb7e83"
      },
      "execution_count": null,
      "outputs": [
        {
          "output_type": "execute_result",
          "data": {
            "text/plain": [
              "         type  release_year\n",
              "0       Movie          2020\n",
              "1     TV Show          2021\n",
              "2     TV Show          2021\n",
              "3     TV Show          2021\n",
              "4     TV Show          2021\n",
              "...       ...           ...\n",
              "8802    Movie          2007\n",
              "8803  TV Show          2018\n",
              "8804    Movie          2009\n",
              "8805    Movie          2006\n",
              "8806    Movie          2015\n",
              "\n",
              "[8790 rows x 2 columns]"
            ],
            "text/html": [
              "\n",
              "  <div id=\"df-c3209f11-0a16-4e39-b37b-52c09bd95f54\">\n",
              "    <div class=\"colab-df-container\">\n",
              "      <div>\n",
              "<style scoped>\n",
              "    .dataframe tbody tr th:only-of-type {\n",
              "        vertical-align: middle;\n",
              "    }\n",
              "\n",
              "    .dataframe tbody tr th {\n",
              "        vertical-align: top;\n",
              "    }\n",
              "\n",
              "    .dataframe thead th {\n",
              "        text-align: right;\n",
              "    }\n",
              "</style>\n",
              "<table border=\"1\" class=\"dataframe\">\n",
              "  <thead>\n",
              "    <tr style=\"text-align: right;\">\n",
              "      <th></th>\n",
              "      <th>type</th>\n",
              "      <th>release_year</th>\n",
              "    </tr>\n",
              "  </thead>\n",
              "  <tbody>\n",
              "    <tr>\n",
              "      <th>0</th>\n",
              "      <td>Movie</td>\n",
              "      <td>2020</td>\n",
              "    </tr>\n",
              "    <tr>\n",
              "      <th>1</th>\n",
              "      <td>TV Show</td>\n",
              "      <td>2021</td>\n",
              "    </tr>\n",
              "    <tr>\n",
              "      <th>2</th>\n",
              "      <td>TV Show</td>\n",
              "      <td>2021</td>\n",
              "    </tr>\n",
              "    <tr>\n",
              "      <th>3</th>\n",
              "      <td>TV Show</td>\n",
              "      <td>2021</td>\n",
              "    </tr>\n",
              "    <tr>\n",
              "      <th>4</th>\n",
              "      <td>TV Show</td>\n",
              "      <td>2021</td>\n",
              "    </tr>\n",
              "    <tr>\n",
              "      <th>...</th>\n",
              "      <td>...</td>\n",
              "      <td>...</td>\n",
              "    </tr>\n",
              "    <tr>\n",
              "      <th>8802</th>\n",
              "      <td>Movie</td>\n",
              "      <td>2007</td>\n",
              "    </tr>\n",
              "    <tr>\n",
              "      <th>8803</th>\n",
              "      <td>TV Show</td>\n",
              "      <td>2018</td>\n",
              "    </tr>\n",
              "    <tr>\n",
              "      <th>8804</th>\n",
              "      <td>Movie</td>\n",
              "      <td>2009</td>\n",
              "    </tr>\n",
              "    <tr>\n",
              "      <th>8805</th>\n",
              "      <td>Movie</td>\n",
              "      <td>2006</td>\n",
              "    </tr>\n",
              "    <tr>\n",
              "      <th>8806</th>\n",
              "      <td>Movie</td>\n",
              "      <td>2015</td>\n",
              "    </tr>\n",
              "  </tbody>\n",
              "</table>\n",
              "<p>8790 rows × 2 columns</p>\n",
              "</div>\n",
              "      <button class=\"colab-df-convert\" onclick=\"convertToInteractive('df-c3209f11-0a16-4e39-b37b-52c09bd95f54')\"\n",
              "              title=\"Convert this dataframe to an interactive table.\"\n",
              "              style=\"display:none;\">\n",
              "        \n",
              "  <svg xmlns=\"http://www.w3.org/2000/svg\" height=\"24px\"viewBox=\"0 0 24 24\"\n",
              "       width=\"24px\">\n",
              "    <path d=\"M0 0h24v24H0V0z\" fill=\"none\"/>\n",
              "    <path d=\"M18.56 5.44l.94 2.06.94-2.06 2.06-.94-2.06-.94-.94-2.06-.94 2.06-2.06.94zm-11 1L8.5 8.5l.94-2.06 2.06-.94-2.06-.94L8.5 2.5l-.94 2.06-2.06.94zm10 10l.94 2.06.94-2.06 2.06-.94-2.06-.94-.94-2.06-.94 2.06-2.06.94z\"/><path d=\"M17.41 7.96l-1.37-1.37c-.4-.4-.92-.59-1.43-.59-.52 0-1.04.2-1.43.59L10.3 9.45l-7.72 7.72c-.78.78-.78 2.05 0 2.83L4 21.41c.39.39.9.59 1.41.59.51 0 1.02-.2 1.41-.59l7.78-7.78 2.81-2.81c.8-.78.8-2.07 0-2.86zM5.41 20L4 18.59l7.72-7.72 1.47 1.35L5.41 20z\"/>\n",
              "  </svg>\n",
              "      </button>\n",
              "      \n",
              "  <style>\n",
              "    .colab-df-container {\n",
              "      display:flex;\n",
              "      flex-wrap:wrap;\n",
              "      gap: 12px;\n",
              "    }\n",
              "\n",
              "    .colab-df-convert {\n",
              "      background-color: #E8F0FE;\n",
              "      border: none;\n",
              "      border-radius: 50%;\n",
              "      cursor: pointer;\n",
              "      display: none;\n",
              "      fill: #1967D2;\n",
              "      height: 32px;\n",
              "      padding: 0 0 0 0;\n",
              "      width: 32px;\n",
              "    }\n",
              "\n",
              "    .colab-df-convert:hover {\n",
              "      background-color: #E2EBFA;\n",
              "      box-shadow: 0px 1px 2px rgba(60, 64, 67, 0.3), 0px 1px 3px 1px rgba(60, 64, 67, 0.15);\n",
              "      fill: #174EA6;\n",
              "    }\n",
              "\n",
              "    [theme=dark] .colab-df-convert {\n",
              "      background-color: #3B4455;\n",
              "      fill: #D2E3FC;\n",
              "    }\n",
              "\n",
              "    [theme=dark] .colab-df-convert:hover {\n",
              "      background-color: #434B5C;\n",
              "      box-shadow: 0px 1px 3px 1px rgba(0, 0, 0, 0.15);\n",
              "      filter: drop-shadow(0px 1px 2px rgba(0, 0, 0, 0.3));\n",
              "      fill: #FFFFFF;\n",
              "    }\n",
              "  </style>\n",
              "\n",
              "      <script>\n",
              "        const buttonEl =\n",
              "          document.querySelector('#df-c3209f11-0a16-4e39-b37b-52c09bd95f54 button.colab-df-convert');\n",
              "        buttonEl.style.display =\n",
              "          google.colab.kernel.accessAllowed ? 'block' : 'none';\n",
              "\n",
              "        async function convertToInteractive(key) {\n",
              "          const element = document.querySelector('#df-c3209f11-0a16-4e39-b37b-52c09bd95f54');\n",
              "          const dataTable =\n",
              "            await google.colab.kernel.invokeFunction('convertToInteractive',\n",
              "                                                     [key], {});\n",
              "          if (!dataTable) return;\n",
              "\n",
              "          const docLinkHtml = 'Like what you see? Visit the ' +\n",
              "            '<a target=\"_blank\" href=https://colab.research.google.com/notebooks/data_table.ipynb>data table notebook</a>'\n",
              "            + ' to learn more about interactive tables.';\n",
              "          element.innerHTML = '';\n",
              "          dataTable['output_type'] = 'display_data';\n",
              "          await google.colab.output.renderOutput(dataTable, element);\n",
              "          const docLink = document.createElement('div');\n",
              "          docLink.innerHTML = docLinkHtml;\n",
              "          element.appendChild(docLink);\n",
              "        }\n",
              "      </script>\n",
              "    </div>\n",
              "  </div>\n",
              "  "
            ]
          },
          "metadata": {},
          "execution_count": 114
        }
      ]
    },
    {
      "cell_type": "code",
      "source": [
        "import matplotlib.pyplot as plt\n",
        "\n",
        "data_viz = df.groupby(['release_year','type'], as_index=False)['no_of_purchases'].sum()\n",
        "\n",
        "for i in list(data_viz['transaction_type'].unique()):\n",
        "    viz = sns.lineplot(data=data_viz[data_viz['transaction_type'] == i], x='year', y='no_of_purchases', hue='tier')\n",
        "    plt.title(i)\n",
        "    plt.show()"
      ],
      "metadata": {
        "colab": {
          "base_uri": "https://localhost:8080/",
          "height": 458
        },
        "id": "WMQ2Ok9nkI72",
        "outputId": "6c44f78a-542b-43cc-bd22-178ee1a06917"
      },
      "execution_count": null,
      "outputs": [
        {
          "output_type": "execute_result",
          "data": {
            "text/plain": [
              "<matplotlib.axes._subplots.AxesSubplot at 0x7fcebf2f4f10>"
            ]
          },
          "metadata": {},
          "execution_count": 118
        },
        {
          "output_type": "display_data",
          "data": {
            "text/plain": [
              "<Figure size 576x432 with 1 Axes>"
            ],
            "image/png": "[encoded data removed]"
          },
          "metadata": {
            "needs_background": "light"
          }
        }
      ]
    },
    {
      "cell_type": "code",
      "source": [
        "new_df = original_df.sort_values(by=['type'])"
      ],
      "metadata": {
        "id": "06QyY1YHA1Fw"
      },
      "execution_count": null,
      "outputs": []
    },
    {
      "cell_type": "code",
      "source": [
        "movies_df = new_df.iloc[:6125]\n",
        "tv_show_df = new_df.iloc[6126:]"
      ],
      "metadata": {
        "id": "fRTz2lBqAjeW"
      },
      "execution_count": null,
      "outputs": []
    },
    {
      "cell_type": "code",
      "source": [
        ""
      ],
      "metadata": {
        "id": "hzqRnwuMCO1f"
      },
      "execution_count": null,
      "outputs": []
    },
    {
      "cell_type": "code",
      "source": [
        "age_list = movies_df['new_dur']"
      ],
      "metadata": {
        "id": "xPIP3u6_OXe0"
      },
      "execution_count": null,
      "outputs": []
    },
    {
      "cell_type": "code",
      "source": [
        "print(movies_df.isnull().any())"
      ],
      "metadata": {
        "colab": {
          "base_uri": "https://localhost:8080/"
        },
        "id": "t5Mg9aIEPLtF",
        "outputId": "a1c58fd3-9b0d-4152-df5c-6b3d62c235e1"
      },
      "execution_count": null,
      "outputs": [
        {
          "output_type": "stream",
          "name": "stdout",
          "text": [
            "show_id           False\n",
            "type              False\n",
            "director          False\n",
            "cast              False\n",
            "country           False\n",
            "release_year      False\n",
            "rating            False\n",
            "duration          False\n",
            "listed_in         False\n",
            "new_dur           False\n",
            "year_added        False\n",
            "Diff_added_rel    False\n",
            "dtype: bool\n"
          ]
        }
      ]
    },
    {
      "cell_type": "code",
      "source": [
        "print(age_list)"
      ],
      "metadata": {
        "colab": {
          "base_uri": "https://localhost:8080/"
        },
        "id": "CczoE_vMOZvJ",
        "outputId": "60cecd65-bd04-49de-dc0b-61d8d06448bf"
      },
      "execution_count": null,
      "outputs": [
        {
          "output_type": "stream",
          "name": "stdout",
          "text": [
            "0        90\n",
            "5641     84\n",
            "5639     74\n",
            "5638    109\n",
            "5637    104\n",
            "       ... \n",
            "2695    103\n",
            "3302    116\n",
            "3290    100\n",
            "3443    101\n",
            "2697     91\n",
            "Name: new_dur, Length: 6125, dtype: int64\n"
          ]
        }
      ]
    },
    {
      "cell_type": "code",
      "source": [
        "#age_list = [1,27,60,200]\n",
        "temp = []"
      ],
      "metadata": {
        "id": "Av3poG71OubL"
      },
      "execution_count": null,
      "outputs": []
    },
    {
      "cell_type": "code",
      "source": [
        "for i in age_list:\n",
        "  if(i >= 30 and i<60):\n",
        "    temp.append('0.5-1')\n",
        "  elif(i>=60 and i<90):\n",
        "    temp.append('1-1.5')\n",
        "  elif(i>=90 and i<120):\n",
        "    temp.append('1.5-2')\n",
        "  elif(i>=120 and i<150):\n",
        "    temp.append('2-2.5')\n",
        "  elif(i>=150 and i<180):\n",
        "    temp.append('2.5-3')\n",
        "  elif(i>=180 and i<210):\n",
        "    temp.append('3-3.5')\n",
        "  elif(i>=210 and i<240):\n",
        "    temp.append('3.5-4')\n",
        "  elif(i>=240 and i<270):\n",
        "    temp.append('4-4.5')\n",
        "  elif(i>=270 and i<1000):\n",
        "    temp.append('4.5-5.5')\n",
        "\n",
        "  else:\n",
        "    temp.append('0-0.5')\n"
      ],
      "metadata": {
        "id": "VYpnBpA2Sukv"
      },
      "execution_count": null,
      "outputs": []
    },
    {
      "cell_type": "code",
      "source": [
        "movies_df['new_dur2']= temp"
      ],
      "metadata": {
        "colab": {
          "base_uri": "https://localhost:8080/"
        },
        "id": "cl6W6bnZTh1O",
        "outputId": "f900ecdc-d9d0-4523-bac1-ce7f0869dd4a"
      },
      "execution_count": null,
      "outputs": [
        {
          "output_type": "stream",
          "name": "stderr",
          "text": [
            "/usr/local/lib/python3.7/dist-packages/ipykernel_launcher.py:1: SettingWithCopyWarning: \n",
            "A value is trying to be set on a copy of a slice from a DataFrame.\n",
            "Try using .loc[row_indexer,col_indexer] = value instead\n",
            "\n",
            "See the caveats in the documentation: https://pandas.pydata.org/pandas-docs/stable/user_guide/indexing.html#returning-a-view-versus-a-copy\n",
            "  \"\"\"Entry point for launching an IPython kernel.\n"
          ]
        }
      ]
    },
    {
      "cell_type": "code",
      "source": [
        "movies_df"
      ],
      "metadata": {
        "colab": {
          "base_uri": "https://localhost:8080/",
          "height": 424
        },
        "id": "pavHN6oPO9fb",
        "outputId": "1eb4026b-c668-41dd-fdf0-5a2fd8f8422a"
      },
      "execution_count": null,
      "outputs": [
        {
          "output_type": "execute_result",
          "data": {
            "text/plain": [
              "     show_id   type             director  \\\n",
              "0         s1  Movie      Kirsten Johnson   \n",
              "5641   s5642  Movie         Babak Anvari   \n",
              "5639   s5640  Movie     Jeannie Gaffigan   \n",
              "5638   s5639  Movie  Mir-Jean Bou Chaaya   \n",
              "5637   s5638  Movie     Alistair Legrand   \n",
              "...      ...    ...                  ...   \n",
              "2695   s2696  Movie            Jay Karas   \n",
              "3302   s3303  Movie          Zhang Yimou   \n",
              "3290   s3291  Movie             Tom Ford   \n",
              "3443   s3444  Movie   Andibachtiar Yusuf   \n",
              "2697   s2698  Movie            Alan Yang   \n",
              "\n",
              "                                                   cast  \\\n",
              "0                                               No Cast   \n",
              "5641  Narges Rashidi, Avin Manshadi, Bobby Naderi, R...   \n",
              "5639                                       Jim Gaffigan   \n",
              "5638  Alain Saadeh, Fouad Yammine, Tarek Yaacoub, Al...   \n",
              "5637  Vinessa Shaw, Kevin Rahm, William Atherton, Aa...   \n",
              "...                                                 ...   \n",
              "2695  Seth Carr, Tichina Arnold, Adam Pally, Ken Mar...   \n",
              "3302  Deng Chao, Sun Li, Ryan Cheng, Wang Qianyuan, ...   \n",
              "3290  Colin Firth, Julianne Moore, Nicholas Hoult, G...   \n",
              "3443  Gading Marten, Della Dartyan, Rukman Rosadi, A...   \n",
              "2697  Tzi Ma, Christine Ko, Hong-Chi Lee, Hayden Sze...   \n",
              "\n",
              "                                  country  release_year rating duration  \\\n",
              "0                           United States          2020  PG-13   90 min   \n",
              "5641  United Kingdom, Jordan, Qatar, Iran          2016  PG-13   84 min   \n",
              "5639                        United States          2017  TV-14   74 min   \n",
              "5638                       Lebanon, Qatar          2015  TV-MA  109 min   \n",
              "5637                        United States          2017  TV-MA  104 min   \n",
              "...                                   ...           ...    ...      ...   \n",
              "2695                        United States          2020   TV-G  103 min   \n",
              "3302                     China, Hong Kong          2018  TV-14  116 min   \n",
              "3290                        United States          2009      R  100 min   \n",
              "3443                            Indonesia          2018  TV-14  101 min   \n",
              "2697                        United States          2020     PG   91 min   \n",
              "\n",
              "                                              listed_in  new_dur  year_added  \\\n",
              "0                                         Documentaries       90        2021   \n",
              "5641     Horror Movies, International Movies, Thrillers       84        2017   \n",
              "5639                                    Stand-Up Comedy       74        2017   \n",
              "5638             Comedies, Dramas, International Movies      109        2017   \n",
              "5637                           Horror Movies, Thrillers      104        2017   \n",
              "...                                                 ...      ...         ...   \n",
              "2695  Children & Family Movies, Comedies, Sports Movies      103        2020   \n",
              "3302   Action & Adventure, Dramas, International Movies      116        2019   \n",
              "3290           Dramas, Independent Movies, LGBTQ Movies      100        2019   \n",
              "3443      Dramas, International Movies, Romantic Movies      101        2019   \n",
              "2697                                             Dramas       91        2020   \n",
              "\n",
              "      Diff_added_rel new_dur2  \n",
              "0                  1    1.5-2  \n",
              "5641               1    1-1.5  \n",
              "5639               0    1-1.5  \n",
              "5638               2    1.5-2  \n",
              "5637               0    1.5-2  \n",
              "...              ...      ...  \n",
              "2695               0    1.5-2  \n",
              "3302               1    1.5-2  \n",
              "3290              10    1.5-2  \n",
              "3443               1    1.5-2  \n",
              "2697               0    1.5-2  \n",
              "\n",
              "[6125 rows x 13 columns]"
            ],
            "text/html": [
              "\n",
              "  <div id=\"df-11fa74a0-ca43-4c3b-9f06-5f0d52b7341c\">\n",
              "    <div class=\"colab-df-container\">\n",
              "      <div>\n",
              "<style scoped>\n",
              "    .dataframe tbody tr th:only-of-type {\n",
              "        vertical-align: middle;\n",
              "    }\n",
              "\n",
              "    .dataframe tbody tr th {\n",
              "        vertical-align: top;\n",
              "    }\n",
              "\n",
              "    .dataframe thead th {\n",
              "        text-align: right;\n",
              "    }\n",
              "</style>\n",
              "<table border=\"1\" class=\"dataframe\">\n",
              "  <thead>\n",
              "    <tr style=\"text-align: right;\">\n",
              "      <th></th>\n",
              "      <th>show_id</th>\n",
              "      <th>type</th>\n",
              "      <th>director</th>\n",
              "      <th>cast</th>\n",
              "      <th>country</th>\n",
              "      <th>release_year</th>\n",
              "      <th>rating</th>\n",
              "      <th>duration</th>\n",
              "      <th>listed_in</th>\n",
              "      <th>new_dur</th>\n",
              "      <th>year_added</th>\n",
              "      <th>Diff_added_rel</th>\n",
              "      <th>new_dur2</th>\n",
              "    </tr>\n",
              "  </thead>\n",
              "  <tbody>\n",
              "    <tr>\n",
              "      <th>0</th>\n",
              "      <td>s1</td>\n",
              "      <td>Movie</td>\n",
              "      <td>Kirsten Johnson</td>\n",
              "      <td>No Cast</td>\n",
              "      <td>United States</td>\n",
              "      <td>2020</td>\n",
              "      <td>PG-13</td>\n",
              "      <td>90 min</td>\n",
              "      <td>Documentaries</td>\n",
              "      <td>90</td>\n",
              "      <td>2021</td>\n",
              "      <td>1</td>\n",
              "      <td>1.5-2</td>\n",
              "    </tr>\n",
              "    <tr>\n",
              "      <th>5641</th>\n",
              "      <td>s5642</td>\n",
              "      <td>Movie</td>\n",
              "      <td>Babak Anvari</td>\n",
              "      <td>Narges Rashidi, Avin Manshadi, Bobby Naderi, R...</td>\n",
              "      <td>United Kingdom, Jordan, Qatar, Iran</td>\n",
              "      <td>2016</td>\n",
              "      <td>PG-13</td>\n",
              "      <td>84 min</td>\n",
              "      <td>Horror Movies, International Movies, Thrillers</td>\n",
              "      <td>84</td>\n",
              "      <td>2017</td>\n",
              "      <td>1</td>\n",
              "      <td>1-1.5</td>\n",
              "    </tr>\n",
              "    <tr>\n",
              "      <th>5639</th>\n",
              "      <td>s5640</td>\n",
              "      <td>Movie</td>\n",
              "      <td>Jeannie Gaffigan</td>\n",
              "      <td>Jim Gaffigan</td>\n",
              "      <td>United States</td>\n",
              "      <td>2017</td>\n",
              "      <td>TV-14</td>\n",
              "      <td>74 min</td>\n",
              "      <td>Stand-Up Comedy</td>\n",
              "      <td>74</td>\n",
              "      <td>2017</td>\n",
              "      <td>0</td>\n",
              "      <td>1-1.5</td>\n",
              "    </tr>\n",
              "    <tr>\n",
              "      <th>5638</th>\n",
              "      <td>s5639</td>\n",
              "      <td>Movie</td>\n",
              "      <td>Mir-Jean Bou Chaaya</td>\n",
              "      <td>Alain Saadeh, Fouad Yammine, Tarek Yaacoub, Al...</td>\n",
              "      <td>Lebanon, Qatar</td>\n",
              "      <td>2015</td>\n",
              "      <td>TV-MA</td>\n",
              "      <td>109 min</td>\n",
              "      <td>Comedies, Dramas, International Movies</td>\n",
              "      <td>109</td>\n",
              "      <td>2017</td>\n",
              "      <td>2</td>\n",
              "      <td>1.5-2</td>\n",
              "    </tr>\n",
              "    <tr>\n",
              "      <th>5637</th>\n",
              "      <td>s5638</td>\n",
              "      <td>Movie</td>\n",
              "      <td>Alistair Legrand</td>\n",
              "      <td>Vinessa Shaw, Kevin Rahm, William Atherton, Aa...</td>\n",
              "      <td>United States</td>\n",
              "      <td>2017</td>\n",
              "      <td>TV-MA</td>\n",
              "      <td>104 min</td>\n",
              "      <td>Horror Movies, Thrillers</td>\n",
              "      <td>104</td>\n",
              "      <td>2017</td>\n",
              "      <td>0</td>\n",
              "      <td>1.5-2</td>\n",
              "    </tr>\n",
              "    <tr>\n",
              "      <th>...</th>\n",
              "      <td>...</td>\n",
              "      <td>...</td>\n",
              "      <td>...</td>\n",
              "      <td>...</td>\n",
              "      <td>...</td>\n",
              "      <td>...</td>\n",
              "      <td>...</td>\n",
              "      <td>...</td>\n",
              "      <td>...</td>\n",
              "      <td>...</td>\n",
              "      <td>...</td>\n",
              "      <td>...</td>\n",
              "      <td>...</td>\n",
              "    </tr>\n",
              "    <tr>\n",
              "      <th>2695</th>\n",
              "      <td>s2696</td>\n",
              "      <td>Movie</td>\n",
              "      <td>Jay Karas</td>\n",
              "      <td>Seth Carr, Tichina Arnold, Adam Pally, Ken Mar...</td>\n",
              "      <td>United States</td>\n",
              "      <td>2020</td>\n",
              "      <td>TV-G</td>\n",
              "      <td>103 min</td>\n",
              "      <td>Children &amp; Family Movies, Comedies, Sports Movies</td>\n",
              "      <td>103</td>\n",
              "      <td>2020</td>\n",
              "      <td>0</td>\n",
              "      <td>1.5-2</td>\n",
              "    </tr>\n",
              "    <tr>\n",
              "      <th>3302</th>\n",
              "      <td>s3303</td>\n",
              "      <td>Movie</td>\n",
              "      <td>Zhang Yimou</td>\n",
              "      <td>Deng Chao, Sun Li, Ryan Cheng, Wang Qianyuan, ...</td>\n",
              "      <td>China, Hong Kong</td>\n",
              "      <td>2018</td>\n",
              "      <td>TV-14</td>\n",
              "      <td>116 min</td>\n",
              "      <td>Action &amp; Adventure, Dramas, International Movies</td>\n",
              "      <td>116</td>\n",
              "      <td>2019</td>\n",
              "      <td>1</td>\n",
              "      <td>1.5-2</td>\n",
              "    </tr>\n",
              "    <tr>\n",
              "      <th>3290</th>\n",
              "      <td>s3291</td>\n",
              "      <td>Movie</td>\n",
              "      <td>Tom Ford</td>\n",
              "      <td>Colin Firth, Julianne Moore, Nicholas Hoult, G...</td>\n",
              "      <td>United States</td>\n",
              "      <td>2009</td>\n",
              "      <td>R</td>\n",
              "      <td>100 min</td>\n",
              "      <td>Dramas, Independent Movies, LGBTQ Movies</td>\n",
              "      <td>100</td>\n",
              "      <td>2019</td>\n",
              "      <td>10</td>\n",
              "      <td>1.5-2</td>\n",
              "    </tr>\n",
              "    <tr>\n",
              "      <th>3443</th>\n",
              "      <td>s3444</td>\n",
              "      <td>Movie</td>\n",
              "      <td>Andibachtiar Yusuf</td>\n",
              "      <td>Gading Marten, Della Dartyan, Rukman Rosadi, A...</td>\n",
              "      <td>Indonesia</td>\n",
              "      <td>2018</td>\n",
              "      <td>TV-14</td>\n",
              "      <td>101 min</td>\n",
              "      <td>Dramas, International Movies, Romantic Movies</td>\n",
              "      <td>101</td>\n",
              "      <td>2019</td>\n",
              "      <td>1</td>\n",
              "      <td>1.5-2</td>\n",
              "    </tr>\n",
              "    <tr>\n",
              "      <th>2697</th>\n",
              "      <td>s2698</td>\n",
              "      <td>Movie</td>\n",
              "      <td>Alan Yang</td>\n",
              "      <td>Tzi Ma, Christine Ko, Hong-Chi Lee, Hayden Sze...</td>\n",
              "      <td>United States</td>\n",
              "      <td>2020</td>\n",
              "      <td>PG</td>\n",
              "      <td>91 min</td>\n",
              "      <td>Dramas</td>\n",
              "      <td>91</td>\n",
              "      <td>2020</td>\n",
              "      <td>0</td>\n",
              "      <td>1.5-2</td>\n",
              "    </tr>\n",
              "  </tbody>\n",
              "</table>\n",
              "<p>6125 rows × 13 columns</p>\n",
              "</div>\n",
              "      <button class=\"colab-df-convert\" onclick=\"convertToInteractive('df-11fa74a0-ca43-4c3b-9f06-5f0d52b7341c')\"\n",
              "              title=\"Convert this dataframe to an interactive table.\"\n",
              "              style=\"display:none;\">\n",
              "        \n",
              "  <svg xmlns=\"http://www.w3.org/2000/svg\" height=\"24px\"viewBox=\"0 0 24 24\"\n",
              "       width=\"24px\">\n",
              "    <path d=\"M0 0h24v24H0V0z\" fill=\"none\"/>\n",
              "    <path d=\"M18.56 5.44l.94 2.06.94-2.06 2.06-.94-2.06-.94-.94-2.06-.94 2.06-2.06.94zm-11 1L8.5 8.5l.94-2.06 2.06-.94-2.06-.94L8.5 2.5l-.94 2.06-2.06.94zm10 10l.94 2.06.94-2.06 2.06-.94-2.06-.94-.94-2.06-.94 2.06-2.06.94z\"/><path d=\"M17.41 7.96l-1.37-1.37c-.4-.4-.92-.59-1.43-.59-.52 0-1.04.2-1.43.59L10.3 9.45l-7.72 7.72c-.78.78-.78 2.05 0 2.83L4 21.41c.39.39.9.59 1.41.59.51 0 1.02-.2 1.41-.59l7.78-7.78 2.81-2.81c.8-.78.8-2.07 0-2.86zM5.41 20L4 18.59l7.72-7.72 1.47 1.35L5.41 20z\"/>\n",
              "  </svg>\n",
              "      </button>\n",
              "      \n",
              "  <style>\n",
              "    .colab-df-container {\n",
              "      display:flex;\n",
              "      flex-wrap:wrap;\n",
              "      gap: 12px;\n",
              "    }\n",
              "\n",
              "    .colab-df-convert {\n",
              "      background-color: #E8F0FE;\n",
              "      border: none;\n",
              "      border-radius: 50%;\n",
              "      cursor: pointer;\n",
              "      display: none;\n",
              "      fill: #1967D2;\n",
              "      height: 32px;\n",
              "      padding: 0 0 0 0;\n",
              "      width: 32px;\n",
              "    }\n",
              "\n",
              "    .colab-df-convert:hover {\n",
              "      background-color: #E2EBFA;\n",
              "      box-shadow: 0px 1px 2px rgba(60, 64, 67, 0.3), 0px 1px 3px 1px rgba(60, 64, 67, 0.15);\n",
              "      fill: #174EA6;\n",
              "    }\n",
              "\n",
              "    [theme=dark] .colab-df-convert {\n",
              "      background-color: #3B4455;\n",
              "      fill: #D2E3FC;\n",
              "    }\n",
              "\n",
              "    [theme=dark] .colab-df-convert:hover {\n",
              "      background-color: #434B5C;\n",
              "      box-shadow: 0px 1px 3px 1px rgba(0, 0, 0, 0.15);\n",
              "      filter: drop-shadow(0px 1px 2px rgba(0, 0, 0, 0.3));\n",
              "      fill: #FFFFFF;\n",
              "    }\n",
              "  </style>\n",
              "\n",
              "      <script>\n",
              "        const buttonEl =\n",
              "          document.querySelector('#df-11fa74a0-ca43-4c3b-9f06-5f0d52b7341c button.colab-df-convert');\n",
              "        buttonEl.style.display =\n",
              "          google.colab.kernel.accessAllowed ? 'block' : 'none';\n",
              "\n",
              "        async function convertToInteractive(key) {\n",
              "          const element = document.querySelector('#df-11fa74a0-ca43-4c3b-9f06-5f0d52b7341c');\n",
              "          const dataTable =\n",
              "            await google.colab.kernel.invokeFunction('convertToInteractive',\n",
              "                                                     [key], {});\n",
              "          if (!dataTable) return;\n",
              "\n",
              "          const docLinkHtml = 'Like what you see? Visit the ' +\n",
              "            '<a target=\"_blank\" href=https://colab.research.google.com/notebooks/data_table.ipynb>data table notebook</a>'\n",
              "            + ' to learn more about interactive tables.';\n",
              "          element.innerHTML = '';\n",
              "          dataTable['output_type'] = 'display_data';\n",
              "          await google.colab.output.renderOutput(dataTable, element);\n",
              "          const docLink = document.createElement('div');\n",
              "          docLink.innerHTML = docLinkHtml;\n",
              "          element.appendChild(docLink);\n",
              "        }\n",
              "      </script>\n",
              "    </div>\n",
              "  </div>\n",
              "  "
            ]
          },
          "metadata": {},
          "execution_count": 87
        }
      ]
    },
    {
      "cell_type": "code",
      "source": [
        ""
      ],
      "metadata": {
        "id": "6PioW9LvmwU_"
      },
      "execution_count": null,
      "outputs": []
    },
    {
      "cell_type": "markdown",
      "source": [
        "## Movies Duration & Rating "
      ],
      "metadata": {
        "id": "oZFecGRMk8k-"
      }
    },
    {
      "cell_type": "code",
      "source": [
        "plt.figure(figsize = (10, 7))\n",
        "ax = sns.countplot(x=\"new_dur2\", hue=\"rating\", data=movies_df, palette = 'rocket', order=movies_df.new_dur2.value_counts().iloc[:4].index)\n",
        "plt.title(\"Movies duration and Rating \")\n",
        "plt.xlabel(\"Duration(Hours)\")\n",
        "plt.ylabel(\"Movies count\")\n",
        "\n",
        "plt.show()"
      ],
      "metadata": {
        "colab": {
          "base_uri": "https://localhost:8080/",
          "height": 513
        },
        "id": "Qv7SV41lEn6r",
        "outputId": "7c6479ce-240c-4fa8-b30e-ee68dcbe77d9"
      },
      "execution_count": null,
      "outputs": [
        {
          "output_type": "display_data",
          "data": {
            "text/plain": [
              "<Figure size 720x504 with 1 Axes>"
            ],
            "image/png": "[encoded data removed]"
          },
          "metadata": {
            "needs_background": "light"
          }
        }
      ]
    },
    {
      "cell_type": "code",
      "source": [
        ", order=movies_df.new_dur.value_counts().iloc[:5].index"
      ],
      "metadata": {
        "id": "5G2kkok3fNgU"
      },
      "execution_count": null,
      "outputs": []
    },
    {
      "cell_type": "markdown",
      "source": [
        "## TV Show Duration & Rating "
      ],
      "metadata": {
        "id": "00SIEFEjlJaX"
      }
    },
    {
      "cell_type": "code",
      "source": [
        "plt.figure(figsize = (10, 7))\n",
        "ax = sns.countplot(x=\"new_dur\", hue=\"rating\", data=tv_show_df, palette = 'rocket',\n",
        "              order=tv_show_df.new_dur.value_counts().iloc[:4].index)\n",
        "plt.title(\"TV Show duration and Rating \")\n",
        "plt.xlabel(\"Series/ Tv Show\")\n",
        "plt.ylabel(\"TV Show count\")\n",
        "#plt.figure(figsize = (11, 8))\n",
        "plt.show()"
      ],
      "metadata": {
        "colab": {
          "base_uri": "https://localhost:8080/",
          "height": 513
        },
        "id": "aUNJQk1DF4IF",
        "outputId": "a2d36e73-5c31-4235-8488-d61d00480872"
      },
      "execution_count": null,
      "outputs": [
        {
          "output_type": "display_data",
          "data": {
            "text/plain": [
              "<Figure size 720x504 with 1 Axes>"
            ],
            "image/png": "[encoded data removed]"
          },
          "metadata": {
            "needs_background": "light"
          }
        }
      ]
    },
    {
      "cell_type": "markdown",
      "source": [
        "## Dataset 2: Countries "
      ],
      "metadata": {
        "id": "uspjWWrRZIy1"
      }
    },
    {
      "cell_type": "code",
      "execution_count": null,
      "metadata": {
        "id": "iS9RUXZZR1O7"
      },
      "outputs": [],
      "source": [
        "import os\n",
        "import pandas as pd\n",
        "import numpy as np\n",
        "import math\n",
        "import tensorflow as tf"
      ]
    },
    {
      "cell_type": "code",
      "source": [
        "from google.colab import drive\n",
        "drive.mount('/content/drive')"
      ],
      "metadata": {
        "id": "WLsivAd20baf",
        "colab": {
          "base_uri": "https://localhost:8080/"
        },
        "outputId": "f10c4acc-3151-4652-dbec-01dfe6af01a0"
      },
      "execution_count": null,
      "outputs": [
        {
          "output_type": "stream",
          "name": "stdout",
          "text": [
            "Drive already mounted at /content/drive; to attempt to forcibly remount, call drive.mount(\"/content/drive\", force_remount=True).\n"
          ]
        }
      ]
    },
    {
      "cell_type": "code",
      "source": [
        "path = \"/content/drive/My Drive/Colab Notebooks/meta/dataset2.csv\""
      ],
      "metadata": {
        "id": "DGQ-zYIs0rDD"
      },
      "execution_count": null,
      "outputs": []
    },
    {
      "cell_type": "code",
      "source": [
        "df = pd.read_excel(path)\n"
      ],
      "metadata": {
        "id": "c126KllF5tdt"
      },
      "execution_count": null,
      "outputs": []
    },
    {
      "cell_type": "code",
      "source": [
        "df"
      ],
      "metadata": {
        "colab": {
          "base_uri": "https://localhost:8080/",
          "height": 424
        },
        "id": "r57j00y3N4jb",
        "outputId": "8fba58c7-ef8d-4aaa-d3f4-014695077961"
      },
      "execution_count": null,
      "outputs": [
        {
          "output_type": "execute_result",
          "data": {
            "text/plain": [
              "        Continent         Country  Total Titles Available on Netflix  \\\n",
              "0          Europe         Albania                               2242   \n",
              "1   South America       Argentina                               3034   \n",
              "2     Australasia       Australia                               5349   \n",
              "3          Europe         Austria                               3878   \n",
              "4          Europe      Azerbaijan                               2117   \n",
              "..            ...             ...                                ...   \n",
              "65         Europe         Ukraine                               4640   \n",
              "66         Europe  United Kingdom                               5673   \n",
              "67  North America   United States                               5879   \n",
              "68  South America         Uruguay                               4215   \n",
              "69  South America       Venezuela                               4180   \n",
              "\n",
              "    Total Films  Total TV Shows  Avg. IMDb Audience Ranking  \\\n",
              "0          1519             723                    7.099133   \n",
              "1          2394             640                    7.039936   \n",
              "2          3615            1734                    7.024310   \n",
              "3          2690            1188                    7.025687   \n",
              "4          1390             727                    7.134567   \n",
              "..          ...             ...                         ...   \n",
              "65         3147            1493                    7.129018   \n",
              "66         3831            1842                    6.972847   \n",
              "67         4035            1844                    6.950882   \n",
              "68         2972            1243                    7.050699   \n",
              "69         3144            1036                    7.050699   \n",
              "\n",
              "    Titles with IMDB Score >8  Avg. Metacritic Critics Score  \\\n",
              "0                        0.27                      64.128895   \n",
              "1                        0.25                      63.514815   \n",
              "2                        0.24                      62.205584   \n",
              "3                        0.24                      63.121827   \n",
              "4                        0.28                      65.270764   \n",
              "..                        ...                            ...   \n",
              "65                       0.28                      65.264368   \n",
              "66                       0.24                      61.675195   \n",
              "67                       0.23                      62.906868   \n",
              "68                       0.25                      63.952830   \n",
              "69                       0.25                      63.952830   \n",
              "\n",
              "    Number of Academy Award-winners  Emmy Award-winners  \n",
              "0                                55                  31  \n",
              "1                                69                  29  \n",
              "2                                54                  23  \n",
              "3                                63                  32  \n",
              "4                                48                  31  \n",
              "..                              ...                 ...  \n",
              "65                               48                  31  \n",
              "66                               59                  31  \n",
              "67                               60                  32  \n",
              "68                               58                  29  \n",
              "69                               57                  29  \n",
              "\n",
              "[70 rows x 10 columns]"
            ],
            "text/html": [
              "\n",
              "  <div id=\"df-0c091fb9-6490-4139-a728-b0018229856c\">\n",
              "    <div class=\"colab-df-container\">\n",
              "      <div>\n",
              "<style scoped>\n",
              "    .dataframe tbody tr th:only-of-type {\n",
              "        vertical-align: middle;\n",
              "    }\n",
              "\n",
              "    .dataframe tbody tr th {\n",
              "        vertical-align: top;\n",
              "    }\n",
              "\n",
              "    .dataframe thead th {\n",
              "        text-align: right;\n",
              "    }\n",
              "</style>\n",
              "<table border=\"1\" class=\"dataframe\">\n",
              "  <thead>\n",
              "    <tr style=\"text-align: right;\">\n",
              "      <th></th>\n",
              "      <th>Continent</th>\n",
              "      <th>Country</th>\n",
              "      <th>Total Titles Available on Netflix</th>\n",
              "      <th>Total Films</th>\n",
              "      <th>Total TV Shows</th>\n",
              "      <th>Avg. IMDb Audience Ranking</th>\n",
              "      <th>Titles with IMDB Score &gt;8</th>\n",
              "      <th>Avg. Metacritic Critics Score</th>\n",
              "      <th>Number of Academy Award-winners</th>\n",
              "      <th>Emmy Award-winners</th>\n",
              "    </tr>\n",
              "  </thead>\n",
              "  <tbody>\n",
              "    <tr>\n",
              "      <th>0</th>\n",
              "      <td>Europe</td>\n",
              "      <td>Albania</td>\n",
              "      <td>2242</td>\n",
              "      <td>1519</td>\n",
              "      <td>723</td>\n",
              "      <td>7.099133</td>\n",
              "      <td>0.27</td>\n",
              "      <td>64.128895</td>\n",
              "      <td>55</td>\n",
              "      <td>31</td>\n",
              "    </tr>\n",
              "    <tr>\n",
              "      <th>1</th>\n",
              "      <td>South America</td>\n",
              "      <td>Argentina</td>\n",
              "      <td>3034</td>\n",
              "      <td>2394</td>\n",
              "      <td>640</td>\n",
              "      <td>7.039936</td>\n",
              "      <td>0.25</td>\n",
              "      <td>63.514815</td>\n",
              "      <td>69</td>\n",
              "      <td>29</td>\n",
              "    </tr>\n",
              "    <tr>\n",
              "      <th>2</th>\n",
              "      <td>Australasia</td>\n",
              "      <td>Australia</td>\n",
              "      <td>5349</td>\n",
              "      <td>3615</td>\n",
              "      <td>1734</td>\n",
              "      <td>7.024310</td>\n",
              "      <td>0.24</td>\n",
              "      <td>62.205584</td>\n",
              "      <td>54</td>\n",
              "      <td>23</td>\n",
              "    </tr>\n",
              "    <tr>\n",
              "      <th>3</th>\n",
              "      <td>Europe</td>\n",
              "      <td>Austria</td>\n",
              "      <td>3878</td>\n",
              "      <td>2690</td>\n",
              "      <td>1188</td>\n",
              "      <td>7.025687</td>\n",
              "      <td>0.24</td>\n",
              "      <td>63.121827</td>\n",
              "      <td>63</td>\n",
              "      <td>32</td>\n",
              "    </tr>\n",
              "    <tr>\n",
              "      <th>4</th>\n",
              "      <td>Europe</td>\n",
              "      <td>Azerbaijan</td>\n",
              "      <td>2117</td>\n",
              "      <td>1390</td>\n",
              "      <td>727</td>\n",
              "      <td>7.134567</td>\n",
              "      <td>0.28</td>\n",
              "      <td>65.270764</td>\n",
              "      <td>48</td>\n",
              "      <td>31</td>\n",
              "    </tr>\n",
              "    <tr>\n",
              "      <th>...</th>\n",
              "      <td>...</td>\n",
              "      <td>...</td>\n",
              "      <td>...</td>\n",
              "      <td>...</td>\n",
              "      <td>...</td>\n",
              "      <td>...</td>\n",
              "      <td>...</td>\n",
              "      <td>...</td>\n",
              "      <td>...</td>\n",
              "      <td>...</td>\n",
              "    </tr>\n",
              "    <tr>\n",
              "      <th>65</th>\n",
              "      <td>Europe</td>\n",
              "      <td>Ukraine</td>\n",
              "      <td>4640</td>\n",
              "      <td>3147</td>\n",
              "      <td>1493</td>\n",
              "      <td>7.129018</td>\n",
              "      <td>0.28</td>\n",
              "      <td>65.264368</td>\n",
              "      <td>48</td>\n",
              "      <td>31</td>\n",
              "    </tr>\n",
              "    <tr>\n",
              "      <th>66</th>\n",
              "      <td>Europe</td>\n",
              "      <td>United Kingdom</td>\n",
              "      <td>5673</td>\n",
              "      <td>3831</td>\n",
              "      <td>1842</td>\n",
              "      <td>6.972847</td>\n",
              "      <td>0.24</td>\n",
              "      <td>61.675195</td>\n",
              "      <td>59</td>\n",
              "      <td>31</td>\n",
              "    </tr>\n",
              "    <tr>\n",
              "      <th>67</th>\n",
              "      <td>North America</td>\n",
              "      <td>United States</td>\n",
              "      <td>5879</td>\n",
              "      <td>4035</td>\n",
              "      <td>1844</td>\n",
              "      <td>6.950882</td>\n",
              "      <td>0.23</td>\n",
              "      <td>62.906868</td>\n",
              "      <td>60</td>\n",
              "      <td>32</td>\n",
              "    </tr>\n",
              "    <tr>\n",
              "      <th>68</th>\n",
              "      <td>South America</td>\n",
              "      <td>Uruguay</td>\n",
              "      <td>4215</td>\n",
              "      <td>2972</td>\n",
              "      <td>1243</td>\n",
              "      <td>7.050699</td>\n",
              "      <td>0.25</td>\n",
              "      <td>63.952830</td>\n",
              "      <td>58</td>\n",
              "      <td>29</td>\n",
              "    </tr>\n",
              "    <tr>\n",
              "      <th>69</th>\n",
              "      <td>South America</td>\n",
              "      <td>Venezuela</td>\n",
              "      <td>4180</td>\n",
              "      <td>3144</td>\n",
              "      <td>1036</td>\n",
              "      <td>7.050699</td>\n",
              "      <td>0.25</td>\n",
              "      <td>63.952830</td>\n",
              "      <td>57</td>\n",
              "      <td>29</td>\n",
              "    </tr>\n",
              "  </tbody>\n",
              "</table>\n",
              "<p>70 rows × 10 columns</p>\n",
              "</div>\n",
              "      <button class=\"colab-df-convert\" onclick=\"convertToInteractive('df-0c091fb9-6490-4139-a728-b0018229856c')\"\n",
              "              title=\"Convert this dataframe to an interactive table.\"\n",
              "              style=\"display:none;\">\n",
              "        \n",
              "  <svg xmlns=\"http://www.w3.org/2000/svg\" height=\"24px\"viewBox=\"0 0 24 24\"\n",
              "       width=\"24px\">\n",
              "    <path d=\"M0 0h24v24H0V0z\" fill=\"none\"/>\n",
              "    <path d=\"M18.56 5.44l.94 2.06.94-2.06 2.06-.94-2.06-.94-.94-2.06-.94 2.06-2.06.94zm-11 1L8.5 8.5l.94-2.06 2.06-.94-2.06-.94L8.5 2.5l-.94 2.06-2.06.94zm10 10l.94 2.06.94-2.06 2.06-.94-2.06-.94-.94-2.06-.94 2.06-2.06.94z\"/><path d=\"M17.41 7.96l-1.37-1.37c-.4-.4-.92-.59-1.43-.59-.52 0-1.04.2-1.43.59L10.3 9.45l-7.72 7.72c-.78.78-.78 2.05 0 2.83L4 21.41c.39.39.9.59 1.41.59.51 0 1.02-.2 1.41-.59l7.78-7.78 2.81-2.81c.8-.78.8-2.07 0-2.86zM5.41 20L4 18.59l7.72-7.72 1.47 1.35L5.41 20z\"/>\n",
              "  </svg>\n",
              "      </button>\n",
              "      \n",
              "  <style>\n",
              "    .colab-df-container {\n",
              "      display:flex;\n",
              "      flex-wrap:wrap;\n",
              "      gap: 12px;\n",
              "    }\n",
              "\n",
              "    .colab-df-convert {\n",
              "      background-color: #E8F0FE;\n",
              "      border: none;\n",
              "      border-radius: 50%;\n",
              "      cursor: pointer;\n",
              "      display: none;\n",
              "      fill: #1967D2;\n",
              "      height: 32px;\n",
              "      padding: 0 0 0 0;\n",
              "      width: 32px;\n",
              "    }\n",
              "\n",
              "    .colab-df-convert:hover {\n",
              "      background-color: #E2EBFA;\n",
              "      box-shadow: 0px 1px 2px rgba(60, 64, 67, 0.3), 0px 1px 3px 1px rgba(60, 64, 67, 0.15);\n",
              "      fill: #174EA6;\n",
              "    }\n",
              "\n",
              "    [theme=dark] .colab-df-convert {\n",
              "      background-color: #3B4455;\n",
              "      fill: #D2E3FC;\n",
              "    }\n",
              "\n",
              "    [theme=dark] .colab-df-convert:hover {\n",
              "      background-color: #434B5C;\n",
              "      box-shadow: 0px 1px 3px 1px rgba(0, 0, 0, 0.15);\n",
              "      filter: drop-shadow(0px 1px 2px rgba(0, 0, 0, 0.3));\n",
              "      fill: #FFFFFF;\n",
              "    }\n",
              "  </style>\n",
              "\n",
              "      <script>\n",
              "        const buttonEl =\n",
              "          document.querySelector('#df-0c091fb9-6490-4139-a728-b0018229856c button.colab-df-convert');\n",
              "        buttonEl.style.display =\n",
              "          google.colab.kernel.accessAllowed ? 'block' : 'none';\n",
              "\n",
              "        async function convertToInteractive(key) {\n",
              "          const element = document.querySelector('#df-0c091fb9-6490-4139-a728-b0018229856c');\n",
              "          const dataTable =\n",
              "            await google.colab.kernel.invokeFunction('convertToInteractive',\n",
              "                                                     [key], {});\n",
              "          if (!dataTable) return;\n",
              "\n",
              "          const docLinkHtml = 'Like what you see? Visit the ' +\n",
              "            '<a target=\"_blank\" href=https://colab.research.google.com/notebooks/data_table.ipynb>data table notebook</a>'\n",
              "            + ' to learn more about interactive tables.';\n",
              "          element.innerHTML = '';\n",
              "          dataTable['output_type'] = 'display_data';\n",
              "          await google.colab.output.renderOutput(dataTable, element);\n",
              "          const docLink = document.createElement('div');\n",
              "          docLink.innerHTML = docLinkHtml;\n",
              "          element.appendChild(docLink);\n",
              "        }\n",
              "      </script>\n",
              "    </div>\n",
              "  </div>\n",
              "  "
            ]
          },
          "metadata": {},
          "execution_count": 62
        }
      ]
    },
    {
      "cell_type": "code",
      "source": [
        "df.columns"
      ],
      "metadata": {
        "colab": {
          "base_uri": "https://localhost:8080/"
        },
        "id": "WhYlCSS-N6rE",
        "outputId": "595e270f-3f06-44e8-d210-dd3d0df59316"
      },
      "execution_count": null,
      "outputs": [
        {
          "output_type": "execute_result",
          "data": {
            "text/plain": [
              "Index(['Continent', 'Country', 'Total Titles Available on Netflix',\n",
              "       'Total Films', 'Total TV Shows', 'Avg. IMDb Audience Ranking',\n",
              "       'Titles with IMDB Score >8', 'Avg. Metacritic Critics Score',\n",
              "       'Number of Academy Award-winners', 'Emmy Award-winners'],\n",
              "      dtype='object')"
            ]
          },
          "metadata": {},
          "execution_count": 63
        }
      ]
    },
    {
      "cell_type": "code",
      "source": [
        "new_df = df.drop(columns = ['Continent','Avg. IMDb Audience Ranking',\n",
        "       'Titles with IMDB Score >8', 'Avg. Metacritic Critics Score',\n",
        "       'Number of Academy Award-winners', 'Emmy Award-winners'])"
      ],
      "metadata": {
        "id": "OCqHtRyhOLCJ"
      },
      "execution_count": null,
      "outputs": []
    },
    {
      "cell_type": "code",
      "source": [
        "new_df"
      ],
      "metadata": {
        "colab": {
          "base_uri": "https://localhost:8080/",
          "height": 424
        },
        "id": "4EKUgfzMOf1K",
        "outputId": "b073b487-d20b-44ae-92ef-b00f7c633038"
      },
      "execution_count": null,
      "outputs": [
        {
          "output_type": "execute_result",
          "data": {
            "text/plain": [
              "           Country  Total Titles Available on Netflix  Total Films  \\\n",
              "0          Albania                               2242         1519   \n",
              "1        Argentina                               3034         2394   \n",
              "2        Australia                               5349         3615   \n",
              "3          Austria                               3878         2690   \n",
              "4       Azerbaijan                               2117         1390   \n",
              "..             ...                                ...          ...   \n",
              "65         Ukraine                               4640         3147   \n",
              "66  United Kingdom                               5673         3831   \n",
              "67   United States                               5879         4035   \n",
              "68         Uruguay                               4215         2972   \n",
              "69       Venezuela                               4180         3144   \n",
              "\n",
              "    Total TV Shows  \n",
              "0              723  \n",
              "1              640  \n",
              "2             1734  \n",
              "3             1188  \n",
              "4              727  \n",
              "..             ...  \n",
              "65            1493  \n",
              "66            1842  \n",
              "67            1844  \n",
              "68            1243  \n",
              "69            1036  \n",
              "\n",
              "[70 rows x 4 columns]"
            ],
            "text/html": [
              "\n",
              "  <div id=\"df-6cfedfcc-c8d6-4262-918f-d57561e439a5\">\n",
              "    <div class=\"colab-df-container\">\n",
              "      <div>\n",
              "<style scoped>\n",
              "    .dataframe tbody tr th:only-of-type {\n",
              "        vertical-align: middle;\n",
              "    }\n",
              "\n",
              "    .dataframe tbody tr th {\n",
              "        vertical-align: top;\n",
              "    }\n",
              "\n",
              "    .dataframe thead th {\n",
              "        text-align: right;\n",
              "    }\n",
              "</style>\n",
              "<table border=\"1\" class=\"dataframe\">\n",
              "  <thead>\n",
              "    <tr style=\"text-align: right;\">\n",
              "      <th></th>\n",
              "      <th>Country</th>\n",
              "      <th>Total Titles Available on Netflix</th>\n",
              "      <th>Total Films</th>\n",
              "      <th>Total TV Shows</th>\n",
              "    </tr>\n",
              "  </thead>\n",
              "  <tbody>\n",
              "    <tr>\n",
              "      <th>0</th>\n",
              "      <td>Albania</td>\n",
              "      <td>2242</td>\n",
              "      <td>1519</td>\n",
              "      <td>723</td>\n",
              "    </tr>\n",
              "    <tr>\n",
              "      <th>1</th>\n",
              "      <td>Argentina</td>\n",
              "      <td>3034</td>\n",
              "      <td>2394</td>\n",
              "      <td>640</td>\n",
              "    </tr>\n",
              "    <tr>\n",
              "      <th>2</th>\n",
              "      <td>Australia</td>\n",
              "      <td>5349</td>\n",
              "      <td>3615</td>\n",
              "      <td>1734</td>\n",
              "    </tr>\n",
              "    <tr>\n",
              "      <th>3</th>\n",
              "      <td>Austria</td>\n",
              "      <td>3878</td>\n",
              "      <td>2690</td>\n",
              "      <td>1188</td>\n",
              "    </tr>\n",
              "    <tr>\n",
              "      <th>4</th>\n",
              "      <td>Azerbaijan</td>\n",
              "      <td>2117</td>\n",
              "      <td>1390</td>\n",
              "      <td>727</td>\n",
              "    </tr>\n",
              "    <tr>\n",
              "      <th>...</th>\n",
              "      <td>...</td>\n",
              "      <td>...</td>\n",
              "      <td>...</td>\n",
              "      <td>...</td>\n",
              "    </tr>\n",
              "    <tr>\n",
              "      <th>65</th>\n",
              "      <td>Ukraine</td>\n",
              "      <td>4640</td>\n",
              "      <td>3147</td>\n",
              "      <td>1493</td>\n",
              "    </tr>\n",
              "    <tr>\n",
              "      <th>66</th>\n",
              "      <td>United Kingdom</td>\n",
              "      <td>5673</td>\n",
              "      <td>3831</td>\n",
              "      <td>1842</td>\n",
              "    </tr>\n",
              "    <tr>\n",
              "      <th>67</th>\n",
              "      <td>United States</td>\n",
              "      <td>5879</td>\n",
              "      <td>4035</td>\n",
              "      <td>1844</td>\n",
              "    </tr>\n",
              "    <tr>\n",
              "      <th>68</th>\n",
              "      <td>Uruguay</td>\n",
              "      <td>4215</td>\n",
              "      <td>2972</td>\n",
              "      <td>1243</td>\n",
              "    </tr>\n",
              "    <tr>\n",
              "      <th>69</th>\n",
              "      <td>Venezuela</td>\n",
              "      <td>4180</td>\n",
              "      <td>3144</td>\n",
              "      <td>1036</td>\n",
              "    </tr>\n",
              "  </tbody>\n",
              "</table>\n",
              "<p>70 rows × 4 columns</p>\n",
              "</div>\n",
              "      <button class=\"colab-df-convert\" onclick=\"convertToInteractive('df-6cfedfcc-c8d6-4262-918f-d57561e439a5')\"\n",
              "              title=\"Convert this dataframe to an interactive table.\"\n",
              "              style=\"display:none;\">\n",
              "        \n",
              "  <svg xmlns=\"http://www.w3.org/2000/svg\" height=\"24px\"viewBox=\"0 0 24 24\"\n",
              "       width=\"24px\">\n",
              "    <path d=\"M0 0h24v24H0V0z\" fill=\"none\"/>\n",
              "    <path d=\"M18.56 5.44l.94 2.06.94-2.06 2.06-.94-2.06-.94-.94-2.06-.94 2.06-2.06.94zm-11 1L8.5 8.5l.94-2.06 2.06-.94-2.06-.94L8.5 2.5l-.94 2.06-2.06.94zm10 10l.94 2.06.94-2.06 2.06-.94-2.06-.94-.94-2.06-.94 2.06-2.06.94z\"/><path d=\"M17.41 7.96l-1.37-1.37c-.4-.4-.92-.59-1.43-.59-.52 0-1.04.2-1.43.59L10.3 9.45l-7.72 7.72c-.78.78-.78 2.05 0 2.83L4 21.41c.39.39.9.59 1.41.59.51 0 1.02-.2 1.41-.59l7.78-7.78 2.81-2.81c.8-.78.8-2.07 0-2.86zM5.41 20L4 18.59l7.72-7.72 1.47 1.35L5.41 20z\"/>\n",
              "  </svg>\n",
              "      </button>\n",
              "      \n",
              "  <style>\n",
              "    .colab-df-container {\n",
              "      display:flex;\n",
              "      flex-wrap:wrap;\n",
              "      gap: 12px;\n",
              "    }\n",
              "\n",
              "    .colab-df-convert {\n",
              "      background-color: #E8F0FE;\n",
              "      border: none;\n",
              "      border-radius: 50%;\n",
              "      cursor: pointer;\n",
              "      display: none;\n",
              "      fill: #1967D2;\n",
              "      height: 32px;\n",
              "      padding: 0 0 0 0;\n",
              "      width: 32px;\n",
              "    }\n",
              "\n",
              "    .colab-df-convert:hover {\n",
              "      background-color: #E2EBFA;\n",
              "      box-shadow: 0px 1px 2px rgba(60, 64, 67, 0.3), 0px 1px 3px 1px rgba(60, 64, 67, 0.15);\n",
              "      fill: #174EA6;\n",
              "    }\n",
              "\n",
              "    [theme=dark] .colab-df-convert {\n",
              "      background-color: #3B4455;\n",
              "      fill: #D2E3FC;\n",
              "    }\n",
              "\n",
              "    [theme=dark] .colab-df-convert:hover {\n",
              "      background-color: #434B5C;\n",
              "      box-shadow: 0px 1px 3px 1px rgba(0, 0, 0, 0.15);\n",
              "      filter: drop-shadow(0px 1px 2px rgba(0, 0, 0, 0.3));\n",
              "      fill: #FFFFFF;\n",
              "    }\n",
              "  </style>\n",
              "\n",
              "      <script>\n",
              "        const buttonEl =\n",
              "          document.querySelector('#df-6cfedfcc-c8d6-4262-918f-d57561e439a5 button.colab-df-convert');\n",
              "        buttonEl.style.display =\n",
              "          google.colab.kernel.accessAllowed ? 'block' : 'none';\n",
              "\n",
              "        async function convertToInteractive(key) {\n",
              "          const element = document.querySelector('#df-6cfedfcc-c8d6-4262-918f-d57561e439a5');\n",
              "          const dataTable =\n",
              "            await google.colab.kernel.invokeFunction('convertToInteractive',\n",
              "                                                     [key], {});\n",
              "          if (!dataTable) return;\n",
              "\n",
              "          const docLinkHtml = 'Like what you see? Visit the ' +\n",
              "            '<a target=\"_blank\" href=https://colab.research.google.com/notebooks/data_table.ipynb>data table notebook</a>'\n",
              "            + ' to learn more about interactive tables.';\n",
              "          element.innerHTML = '';\n",
              "          dataTable['output_type'] = 'display_data';\n",
              "          await google.colab.output.renderOutput(dataTable, element);\n",
              "          const docLink = document.createElement('div');\n",
              "          docLink.innerHTML = docLinkHtml;\n",
              "          element.appendChild(docLink);\n",
              "        }\n",
              "      </script>\n",
              "    </div>\n",
              "  </div>\n",
              "  "
            ]
          },
          "metadata": {},
          "execution_count": 65
        }
      ]
    },
    {
      "cell_type": "code",
      "source": [
        "sorted_df = new_df.sort_values(by=['Total Titles Available on Netflix'], ascending=False)"
      ],
      "metadata": {
        "id": "WVC8wWz6OnPW"
      },
      "execution_count": null,
      "outputs": []
    },
    {
      "cell_type": "code",
      "source": [
        "sorted_df"
      ],
      "metadata": {
        "colab": {
          "base_uri": "https://localhost:8080/",
          "height": 424
        },
        "id": "bejo9uQrPoZl",
        "outputId": "bfbb3acf-0e99-43f0-ae3c-b9d515d827df"
      },
      "execution_count": null,
      "outputs": [
        {
          "output_type": "execute_result",
          "data": {
            "text/plain": [
              "           Country  Total Titles Available on Netflix  Total Films  \\\n",
              "67   United States                               5879         4035   \n",
              "10          Canada                               5730         4043   \n",
              "66  United Kingdom                               5673         3831   \n",
              "29           India                               5591         3781   \n",
              "2        Australia                               5349         3615   \n",
              "..             ...                                ...          ...   \n",
              "45          Panama                               2234         1535   \n",
              "5          Bahamas                               2234         1535   \n",
              "41         Moldova                               2145         1414   \n",
              "4       Azerbaijan                               2117         1390   \n",
              "22         Georgia                               2116         1388   \n",
              "\n",
              "    Total TV Shows  \n",
              "67            1844  \n",
              "10            1687  \n",
              "66            1842  \n",
              "29            1810  \n",
              "2             1734  \n",
              "..             ...  \n",
              "45             699  \n",
              "5              699  \n",
              "41             731  \n",
              "4              727  \n",
              "22             728  \n",
              "\n",
              "[70 rows x 4 columns]"
            ],
            "text/html": [
              "\n",
              "  <div id=\"df-061f7fe9-9de1-43a4-9196-0414df0f923c\">\n",
              "    <div class=\"colab-df-container\">\n",
              "      <div>\n",
              "<style scoped>\n",
              "    .dataframe tbody tr th:only-of-type {\n",
              "        vertical-align: middle;\n",
              "    }\n",
              "\n",
              "    .dataframe tbody tr th {\n",
              "        vertical-align: top;\n",
              "    }\n",
              "\n",
              "    .dataframe thead th {\n",
              "        text-align: right;\n",
              "    }\n",
              "</style>\n",
              "<table border=\"1\" class=\"dataframe\">\n",
              "  <thead>\n",
              "    <tr style=\"text-align: right;\">\n",
              "      <th></th>\n",
              "      <th>Country</th>\n",
              "      <th>Total Titles Available on Netflix</th>\n",
              "      <th>Total Films</th>\n",
              "      <th>Total TV Shows</th>\n",
              "    </tr>\n",
              "  </thead>\n",
              "  <tbody>\n",
              "    <tr>\n",
              "      <th>67</th>\n",
              "      <td>United States</td>\n",
              "      <td>5879</td>\n",
              "      <td>4035</td>\n",
              "      <td>1844</td>\n",
              "    </tr>\n",
              "    <tr>\n",
              "      <th>10</th>\n",
              "      <td>Canada</td>\n",
              "      <td>5730</td>\n",
              "      <td>4043</td>\n",
              "      <td>1687</td>\n",
              "    </tr>\n",
              "    <tr>\n",
              "      <th>66</th>\n",
              "      <td>United Kingdom</td>\n",
              "      <td>5673</td>\n",
              "      <td>3831</td>\n",
              "      <td>1842</td>\n",
              "    </tr>\n",
              "    <tr>\n",
              "      <th>29</th>\n",
              "      <td>India</td>\n",
              "      <td>5591</td>\n",
              "      <td>3781</td>\n",
              "      <td>1810</td>\n",
              "    </tr>\n",
              "    <tr>\n",
              "      <th>2</th>\n",
              "      <td>Australia</td>\n",
              "      <td>5349</td>\n",
              "      <td>3615</td>\n",
              "      <td>1734</td>\n",
              "    </tr>\n",
              "    <tr>\n",
              "      <th>...</th>\n",
              "      <td>...</td>\n",
              "      <td>...</td>\n",
              "      <td>...</td>\n",
              "      <td>...</td>\n",
              "    </tr>\n",
              "    <tr>\n",
              "      <th>45</th>\n",
              "      <td>Panama</td>\n",
              "      <td>2234</td>\n",
              "      <td>1535</td>\n",
              "      <td>699</td>\n",
              "    </tr>\n",
              "    <tr>\n",
              "      <th>5</th>\n",
              "      <td>Bahamas</td>\n",
              "      <td>2234</td>\n",
              "      <td>1535</td>\n",
              "      <td>699</td>\n",
              "    </tr>\n",
              "    <tr>\n",
              "      <th>41</th>\n",
              "      <td>Moldova</td>\n",
              "      <td>2145</td>\n",
              "      <td>1414</td>\n",
              "      <td>731</td>\n",
              "    </tr>\n",
              "    <tr>\n",
              "      <th>4</th>\n",
              "      <td>Azerbaijan</td>\n",
              "      <td>2117</td>\n",
              "      <td>1390</td>\n",
              "      <td>727</td>\n",
              "    </tr>\n",
              "    <tr>\n",
              "      <th>22</th>\n",
              "      <td>Georgia</td>\n",
              "      <td>2116</td>\n",
              "      <td>1388</td>\n",
              "      <td>728</td>\n",
              "    </tr>\n",
              "  </tbody>\n",
              "</table>\n",
              "<p>70 rows × 4 columns</p>\n",
              "</div>\n",
              "      <button class=\"colab-df-convert\" onclick=\"convertToInteractive('df-061f7fe9-9de1-43a4-9196-0414df0f923c')\"\n",
              "              title=\"Convert this dataframe to an interactive table.\"\n",
              "              style=\"display:none;\">\n",
              "        \n",
              "  <svg xmlns=\"http://www.w3.org/2000/svg\" height=\"24px\"viewBox=\"0 0 24 24\"\n",
              "       width=\"24px\">\n",
              "    <path d=\"M0 0h24v24H0V0z\" fill=\"none\"/>\n",
              "    <path d=\"M18.56 5.44l.94 2.06.94-2.06 2.06-.94-2.06-.94-.94-2.06-.94 2.06-2.06.94zm-11 1L8.5 8.5l.94-2.06 2.06-.94-2.06-.94L8.5 2.5l-.94 2.06-2.06.94zm10 10l.94 2.06.94-2.06 2.06-.94-2.06-.94-.94-2.06-.94 2.06-2.06.94z\"/><path d=\"M17.41 7.96l-1.37-1.37c-.4-.4-.92-.59-1.43-.59-.52 0-1.04.2-1.43.59L10.3 9.45l-7.72 7.72c-.78.78-.78 2.05 0 2.83L4 21.41c.39.39.9.59 1.41.59.51 0 1.02-.2 1.41-.59l7.78-7.78 2.81-2.81c.8-.78.8-2.07 0-2.86zM5.41 20L4 18.59l7.72-7.72 1.47 1.35L5.41 20z\"/>\n",
              "  </svg>\n",
              "      </button>\n",
              "      \n",
              "  <style>\n",
              "    .colab-df-container {\n",
              "      display:flex;\n",
              "      flex-wrap:wrap;\n",
              "      gap: 12px;\n",
              "    }\n",
              "\n",
              "    .colab-df-convert {\n",
              "      background-color: #E8F0FE;\n",
              "      border: none;\n",
              "      border-radius: 50%;\n",
              "      cursor: pointer;\n",
              "      display: none;\n",
              "      fill: #1967D2;\n",
              "      height: 32px;\n",
              "      padding: 0 0 0 0;\n",
              "      width: 32px;\n",
              "    }\n",
              "\n",
              "    .colab-df-convert:hover {\n",
              "      background-color: #E2EBFA;\n",
              "      box-shadow: 0px 1px 2px rgba(60, 64, 67, 0.3), 0px 1px 3px 1px rgba(60, 64, 67, 0.15);\n",
              "      fill: #174EA6;\n",
              "    }\n",
              "\n",
              "    [theme=dark] .colab-df-convert {\n",
              "      background-color: #3B4455;\n",
              "      fill: #D2E3FC;\n",
              "    }\n",
              "\n",
              "    [theme=dark] .colab-df-convert:hover {\n",
              "      background-color: #434B5C;\n",
              "      box-shadow: 0px 1px 3px 1px rgba(0, 0, 0, 0.15);\n",
              "      filter: drop-shadow(0px 1px 2px rgba(0, 0, 0, 0.3));\n",
              "      fill: #FFFFFF;\n",
              "    }\n",
              "  </style>\n",
              "\n",
              "      <script>\n",
              "        const buttonEl =\n",
              "          document.querySelector('#df-061f7fe9-9de1-43a4-9196-0414df0f923c button.colab-df-convert');\n",
              "        buttonEl.style.display =\n",
              "          google.colab.kernel.accessAllowed ? 'block' : 'none';\n",
              "\n",
              "        async function convertToInteractive(key) {\n",
              "          const element = document.querySelector('#df-061f7fe9-9de1-43a4-9196-0414df0f923c');\n",
              "          const dataTable =\n",
              "            await google.colab.kernel.invokeFunction('convertToInteractive',\n",
              "                                                     [key], {});\n",
              "          if (!dataTable) return;\n",
              "\n",
              "          const docLinkHtml = 'Like what you see? Visit the ' +\n",
              "            '<a target=\"_blank\" href=https://colab.research.google.com/notebooks/data_table.ipynb>data table notebook</a>'\n",
              "            + ' to learn more about interactive tables.';\n",
              "          element.innerHTML = '';\n",
              "          dataTable['output_type'] = 'display_data';\n",
              "          await google.colab.output.renderOutput(dataTable, element);\n",
              "          const docLink = document.createElement('div');\n",
              "          docLink.innerHTML = docLinkHtml;\n",
              "          element.appendChild(docLink);\n",
              "        }\n",
              "      </script>\n",
              "    </div>\n",
              "  </div>\n",
              "  "
            ]
          },
          "metadata": {},
          "execution_count": 67
        }
      ]
    },
    {
      "cell_type": "code",
      "source": [
        "new = sorted_df[0:10]"
      ],
      "metadata": {
        "id": "8CaVk4ZKUqGf"
      },
      "execution_count": null,
      "outputs": []
    },
    {
      "cell_type": "code",
      "source": [
        "\n",
        "import seaborn as sns\n",
        "import matplotlib.pyplot as plt"
      ],
      "metadata": {
        "id": "u-q5ph5lXFfw"
      },
      "execution_count": null,
      "outputs": []
    },
    {
      "cell_type": "code",
      "source": [
        "\n",
        "\n",
        "sns.set_theme(style=\"whitegrid\")\n",
        "\n",
        "# Initialize the matplotlib figure\n",
        "f, ax = plt.subplots(figsize=(12, 7))\n",
        "\n",
        "\n",
        "# Plot the total crashes\n",
        "sns.set_color_codes(\"pastel\")\n",
        "sns.barplot(y=\"Country\", x=\"Total Films\", data=new,\n",
        "            label=\"Movies\", color=\"c\")\n",
        "\n",
        "# Plot the crashes where alcohol was involved\n",
        "sns.set_color_codes(\"muted\")\n",
        "sns.barplot(y=\"Country\", x=\"Total TV Shows\", data=new,\n",
        "            label=\"TV Shows\", color=\"b\")\n",
        "\n",
        "# Add a legend and informative axis label\n",
        "ax.legend(ncol=2, loc=\"lower right\", frameon=True)\n",
        "\n",
        "sns.despine(left=True, bottom=True)\n",
        "ax = plt.title(\"Top 10 Countries Netflix Content by Volume \")\n",
        "plt.xlabel(\"Count (Movies & TV Show)\")"
      ],
      "metadata": {
        "colab": {
          "base_uri": "https://localhost:8080/",
          "height": 481
        },
        "id": "RYNM52k7TR7q",
        "outputId": "b5b4073e-3788-429b-afc4-b5c45b0c5df5"
      },
      "execution_count": null,
      "outputs": [
        {
          "output_type": "execute_result",
          "data": {
            "text/plain": [
              "Text(0.5, 0, 'Count (Movies & TV Show)')"
            ]
          },
          "metadata": {},
          "execution_count": 80
        },
        {
          "output_type": "display_data",
          "data": {
            "text/plain": [
              "<Figure size 864x504 with 1 Axes>"
            ],
            "image/png": "[encoded data removed]"
          },
          "metadata": {}
        }
      ]
    },
    {
      "cell_type": "code",
      "source": [
        ""
      ],
      "metadata": {
        "id": "GLNSEp3pYDff"
      },
      "execution_count": null,
      "outputs": []
    }
  ]
}